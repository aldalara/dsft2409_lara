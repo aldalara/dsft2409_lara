{
 "cells": [
  {
   "cell_type": "markdown",
   "metadata": {},
   "source": [
    "![imagen](./img/python.jpg)"
   ]
  },
  {
   "cell_type": "markdown",
   "metadata": {},
   "source": [
    "# Python Colecciones\n",
    "\n",
    "Las colecciones son una manera de agrupar varios elementos. En otros notebooks vimos cómo funcionan las listas, que es la colección más usada, pero se trata solo de la punta del iceberg. Con Python tenemos varias manera de almacenar conjuntos de datos, dependiendo del tipo de dato, finalidad, tipo de acceso y rendimiento.\n",
    "\n",
    "1. [Listas](#1.-Listas)\n",
    "2. [Tuplas](#2.-Tuplas)\n",
    "3. [Diccionarios](#3.-Diccionarios)\n",
    "4. [Sets](#4.-Sets)\n",
    "5. [Conversiones entre colecciones](#5.-Conversiones-entre-colecciones)\n",
    "6. [Comprensión de listas](#6.-Comprensión-de-listas)\n",
    "7. [Resumen](#7.-Resumen)"
   ]
  },
  {
   "cell_type": "markdown",
   "metadata": {},
   "source": [
    "## 1. Listas\n",
    "Ya conocemos bastante las listas. Veamos un repaso de lo que podemos hacer con ellas, así como algunas funcionalidades nuevas"
   ]
  },
  {
   "cell_type": "code",
   "execution_count": 38,
   "metadata": {},
   "outputs": [
    {
     "name": "stdout",
     "output_type": "stream",
     "text": [
      "7\n",
      "Febrero\n",
      "Marzo\n"
     ]
    }
   ],
   "source": [
    "# Listas de números, strings, booleanos, con elementos repetidos, listas anidadas...\n",
    "nums = [6, 2, 8, 3, 4, 5, 5]\n",
    "months = [\"Enero\", \"Febrero\", \"Marzo\"]\n",
    "mix = [5, 7, \"Abril\", True, None, [\"Blanco\", \"Negro\"]]\n",
    "\n",
    "# Longitud de la lista\n",
    "print(len(nums))\n",
    "\n",
    "# Indexación\n",
    "print(months[1])\n",
    "print(months[len(months)-1]) #Para acceder al último elemento"
   ]
  },
  {
   "cell_type": "markdown",
   "metadata": {},
   "source": [
    "### Acceso\n",
    "Entre corchetes introducimos el indice del elemento al que queremos acceder"
   ]
  },
  {
   "cell_type": "code",
   "execution_count": 39,
   "metadata": {},
   "outputs": [
    {
     "name": "stdout",
     "output_type": "stream",
     "text": [
      "Enero\n",
      "Marzo\n"
     ]
    }
   ],
   "source": [
    "print(months[0])\n",
    "print(months[-1])"
   ]
  },
  {
   "cell_type": "markdown",
   "metadata": {},
   "source": [
    "Si planteamos el problema al revés. Tenemos los valores de la lista y lo que queremos es obtener el índice de esos valores dentro de la lista"
   ]
  },
  {
   "cell_type": "code",
   "execution_count": 40,
   "metadata": {},
   "outputs": [
    {
     "data": {
      "text/plain": [
       "2"
      ]
     },
     "execution_count": 40,
     "metadata": {},
     "output_type": "execute_result"
    }
   ],
   "source": [
    "months.index(\"Marzo\")"
   ]
  },
  {
   "cell_type": "markdown",
   "metadata": {},
   "source": [
    "**Slicing**: usamos slicing para acceder a varios elementos seguidos de la lista"
   ]
  },
  {
   "cell_type": "code",
   "execution_count": 41,
   "metadata": {},
   "outputs": [
    {
     "name": "stdout",
     "output_type": "stream",
     "text": [
      "[15, 26]\n",
      "[34, 15, 26, 18]\n",
      "[34, 15, 26, 18, 22]\n",
      "[18, 22]\n",
      "15\n",
      "[15]\n",
      "<class 'list'>\n"
     ]
    }
   ],
   "source": [
    "degrees = [22, 34, 15, 26, 18, 22]\n",
    "\n",
    "print(degrees[2:4]) # Nos devuelve sublistas\n",
    "print(degrees[1:5])\n",
    "print(degrees[1:]) # Hasta el final\n",
    "print(degrees[-2:])\n",
    "print(degrees[2])\n",
    "print(degrees[2:3])\n",
    "print(type(degrees[2:3]))"
   ]
  },
  {
   "cell_type": "code",
   "execution_count": 42,
   "metadata": {},
   "outputs": [
    {
     "name": "stdout",
     "output_type": "stream",
     "text": [
      "[22, 34, 15, 26, 18, 20]\n"
     ]
    }
   ],
   "source": [
    "degrees = [22, 34, 15, 26, 18, 20]\n",
    "print(degrees)"
   ]
  },
  {
   "cell_type": "code",
   "execution_count": 43,
   "metadata": {},
   "outputs": [
    {
     "data": {
      "text/plain": [
       "[20, 15]"
      ]
     },
     "execution_count": 43,
     "metadata": {},
     "output_type": "execute_result"
    }
   ],
   "source": [
    "degrees[-1:-5:-3]"
   ]
  },
  {
   "cell_type": "code",
   "execution_count": 44,
   "metadata": {},
   "outputs": [
    {
     "name": "stdout",
     "output_type": "stream",
     "text": [
      "[22, 34, 15, 26, 18, 20]\n",
      "[1, 26]\n",
      "[22, 34, 15, 26, 18, 20]\n"
     ]
    }
   ],
   "source": [
    "segunda_lista = degrees[2:4]\n",
    "print(degrees)\n",
    "\n",
    "segunda_lista[0] = 1\n",
    "print(segunda_lista)\n",
    "\n",
    "print(degrees)"
   ]
  },
  {
   "cell_type": "markdown",
   "metadata": {},
   "source": [
    "### Modificar elementos\n",
    "Las listas son mutables, por lo que podremos modificarlas"
   ]
  },
  {
   "cell_type": "code",
   "execution_count": 45,
   "metadata": {},
   "outputs": [
    {
     "name": "stdout",
     "output_type": "stream",
     "text": [
      "['Enero', 'Febrero', 'Marzo']\n",
      "['Enero', 'Febrero', 'Abril']\n"
     ]
    }
   ],
   "source": [
    "print(months)\n",
    "\n",
    "months[2] = \"Abril\"\n",
    "print(months)"
   ]
  },
  {
   "cell_type": "markdown",
   "metadata": {},
   "source": [
    "### Añadir elementos\n",
    "Se añade al final de la lista si usamos `append`, o si queremos en un lugar concreto, mediante `insert`"
   ]
  },
  {
   "cell_type": "code",
   "execution_count": 46,
   "metadata": {},
   "outputs": [
    {
     "name": "stdout",
     "output_type": "stream",
     "text": [
      "['honda', 'yamaha', 'suzuki']\n",
      "['honda', 'yamaha', 'suzuki', 'ducati']\n",
      "['honda', 'yamaha', 'kawasaki', 'suzuki', 'ducati']\n"
     ]
    }
   ],
   "source": [
    "motos = ['honda', 'yamaha', 'suzuki']\n",
    "print(motos)\n",
    "\n",
    "motos.append('ducati')\n",
    "print(motos)\n",
    "\n",
    "motos.insert(2, 'kawasaki')\n",
    "print(motos)"
   ]
  },
  {
   "cell_type": "code",
   "execution_count": 47,
   "metadata": {},
   "outputs": [
    {
     "name": "stdout",
     "output_type": "stream",
     "text": [
      "['ducati']\n"
     ]
    }
   ],
   "source": [
    "motos = []\n",
    "\n",
    "motos.append('ducati')\n",
    "print(motos)"
   ]
  },
  {
   "cell_type": "markdown",
   "metadata": {},
   "source": [
    "### Eliminar elementos\n",
    "Para eliminar elementos se usar `remove`. Si no existe, da error, así que cuidado con esta sentencia.\n",
    "\n",
    "En ocasiones resulta útil quedarnos con el elemento eliminado. Para ello usamos `pop()`, que elimina el elemento que le indiquemos, y además devuelve ese elemento por lo que podremos guardarlo en una variable para usarlo después."
   ]
  },
  {
   "cell_type": "code",
   "execution_count": 48,
   "metadata": {},
   "outputs": [
    {
     "name": "stdout",
     "output_type": "stream",
     "text": [
      "['VW', 'Seat', 'BMW', 'VW']\n",
      "None\n",
      "['Seat', 'BMW', 'VW']\n"
     ]
    }
   ],
   "source": [
    "cars = ['VW', 'Seat', 'BMW', 'VW']\n",
    "print(cars)\n",
    "\n",
    "print(cars.remove('VW'))\n",
    "print(cars)\n",
    "# print(cars.remove('VW'))\n",
    "# print(cars)"
   ]
  },
  {
   "cell_type": "code",
   "execution_count": 49,
   "metadata": {},
   "outputs": [
    {
     "name": "stdout",
     "output_type": "stream",
     "text": [
      "['BMW']\n",
      "['Seat', 'VW']\n"
     ]
    }
   ],
   "source": [
    "cars_removed = []\n",
    "cars_removed.append(cars.pop(1))\n",
    "print(cars_removed)\n",
    "print(cars)"
   ]
  },
  {
   "cell_type": "code",
   "execution_count": 50,
   "metadata": {},
   "outputs": [
    {
     "name": "stdout",
     "output_type": "stream",
     "text": [
      "VW\n",
      "['Seat']\n"
     ]
    }
   ],
   "source": [
    "print(cars.pop(1))\n",
    "print(cars)"
   ]
  },
  {
   "cell_type": "markdown",
   "metadata": {},
   "source": [
    "<table align=\"left\">\n",
    " <tr><td width=\"80\"><img src=\"./img/error.png\" style=\"width:auto;height:auto\"></td>\n",
    "     <td style=\"text-align:left\">\n",
    "         <h3>ERRORES remove</h3>\n",
    "         \n",
    " </td></tr>\n",
    "</table>"
   ]
  },
  {
   "cell_type": "code",
   "execution_count": 51,
   "metadata": {
    "collapsed": true,
    "jupyter": {
     "outputs_hidden": true
    },
    "tags": []
   },
   "outputs": [
    {
     "ename": "ValueError",
     "evalue": "list.remove(x): x not in list",
     "output_type": "error",
     "traceback": [
      "\u001b[0;31m---------------------------------------------------------------------------\u001b[0m",
      "\u001b[0;31mValueError\u001b[0m                                Traceback (most recent call last)",
      "Cell \u001b[0;32mIn[51], line 2\u001b[0m\n\u001b[1;32m      1\u001b[0m cars \u001b[38;5;241m=\u001b[39m [\u001b[38;5;124m'\u001b[39m\u001b[38;5;124mVW\u001b[39m\u001b[38;5;124m'\u001b[39m, \u001b[38;5;124m'\u001b[39m\u001b[38;5;124mSeat\u001b[39m\u001b[38;5;124m'\u001b[39m, \u001b[38;5;124m'\u001b[39m\u001b[38;5;124mBMW\u001b[39m\u001b[38;5;124m'\u001b[39m, \u001b[38;5;124m'\u001b[39m\u001b[38;5;124mVW\u001b[39m\u001b[38;5;124m'\u001b[39m]\n\u001b[0;32m----> 2\u001b[0m \u001b[43mcars\u001b[49m\u001b[38;5;241;43m.\u001b[39;49m\u001b[43mremove\u001b[49m\u001b[43m(\u001b[49m\u001b[38;5;124;43m\"\u001b[39;49m\u001b[38;5;124;43mAudi\u001b[39;49m\u001b[38;5;124;43m\"\u001b[39;49m\u001b[43m)\u001b[49m\n",
      "\u001b[0;31mValueError\u001b[0m: list.remove(x): x not in list"
     ]
    }
   ],
   "source": [
    "cars = ['VW', 'Seat', 'BMW', 'VW']\n",
    "cars.remove(\"Audi\")"
   ]
  },
  {
   "cell_type": "markdown",
   "metadata": {},
   "source": [
    "### Métodos: ordenar, tamaño, invertir orden, ocurrencia\n",
    "En este apartado veremos los métodos más útiles, pero podrás consultar el resto en [este enlace](https://www.w3schools.com/python/python_ref_list.asp)"
   ]
  },
  {
   "cell_type": "code",
   "execution_count": 25,
   "metadata": {},
   "outputs": [
    {
     "name": "stdout",
     "output_type": "stream",
     "text": [
      "[22, 34, 15, 26, 18, 22]\n",
      "[15, 18, 22, 22, 26, 34]\n",
      "[22, 34, 15, 26, 18, 22]\n"
     ]
    }
   ],
   "source": [
    "degrees = [22, 34, 15, 26, 18, 22]\n",
    "print(degrees)\n",
    "print(sorted(degrees)) # Te la da ordenada pero no modifica la lista\n",
    "print(degrees)"
   ]
  },
  {
   "cell_type": "code",
   "execution_count": 17,
   "metadata": {},
   "outputs": [
    {
     "data": {
      "text/plain": [
       "[15, 18, 20, 22, 26, 34]"
      ]
     },
     "execution_count": 17,
     "metadata": {},
     "output_type": "execute_result"
    }
   ],
   "source": [
    "degrees.sort() # Esta te la modifica\n",
    "degrees"
   ]
  },
  {
   "cell_type": "code",
   "execution_count": null,
   "metadata": {},
   "outputs": [],
   "source": []
  },
  {
   "cell_type": "code",
   "execution_count": 26,
   "metadata": {},
   "outputs": [
    {
     "name": "stdout",
     "output_type": "stream",
     "text": [
      "[22, 34, 15, 26, 18, 22]\n",
      "[15, 18, 22, 22, 26, 34]\n",
      "[22, 34, 15, 26, 18, 22]\n",
      "None\n",
      "[15, 18, 22, 22, 26, 34]\n",
      "None\n",
      "[34, 26, 22, 22, 18, 15]\n"
     ]
    },
    {
     "data": {
      "text/plain": [
       "2"
      ]
     },
     "execution_count": 26,
     "metadata": {},
     "output_type": "execute_result"
    }
   ],
   "source": [
    "degrees = [22, 34, 15, 26, 18, 22]\n",
    "print(degrees)\n",
    "\n",
    "# Ordenar\n",
    "print(sorted(degrees))\n",
    "print(degrees)\n",
    "print(degrees.sort())\n",
    "print(degrees)\n",
    "\n",
    "print(degrees.reverse())\n",
    "print(degrees)\n",
    "\n",
    "degrees.count(22)"
   ]
  },
  {
   "cell_type": "markdown",
   "metadata": {},
   "source": [
    "<table align=\"left\">\n",
    " <tr><td width=\"80\"><img src=\"./img/error.png\" style=\"width:auto;height:auto\"></td>\n",
    "     <td style=\"text-align:left\">\n",
    "         <h3>ERRORES indice</h3>\n",
    "         \n",
    " </td></tr>\n",
    "</table>"
   ]
  },
  {
   "cell_type": "markdown",
   "metadata": {},
   "source": [
    "Mucho cuidado cuando accedemos a los elementos de la lista. Es un error muy habitual acceder a un índice que no existe en la lista.\n",
    "\n",
    "Si estamos accediendo al ultimo elemento, en vez de poner el numero de su indice, poner mejor `-1`, y asi evitamos errores"
   ]
  },
  {
   "cell_type": "markdown",
   "metadata": {},
   "source": [
    "Si tenemos este tipo de errores y no sabemos resolverlos, lo mejor es imprimir la longitud de la lista, y todos los elementos."
   ]
  },
  {
   "attachments": {},
   "cell_type": "markdown",
   "metadata": {},
   "source": [
    "<table align=\"left\">\n",
    " <tr><td width=\"80\"><img src=\"./img/ejercicio.png\" style=\"width:auto;height:auto\"></td>\n",
    "     <td style=\"text-align:left\">\n",
    "         <h3>Ejercicio de listas</h3>\n",
    "\n",
    "Piensa en al menos 3 personas que invitarías a cenar\n",
    "<ol>\n",
    "    <li>Utiliza la lista de invitados para imprimir cada uno por pantalla y su índice, mediante un bucle</li>\n",
    "    <li>Ordena alfabéticamente tu lista de invitados</li>\n",
    "    <li>¿Quién es el primer invitado de la lista?</li>\n",
    "    <li>Te llama uno de ellos a última hora, que no va a poder asistir. Elimínalo de la lista</li>\n",
    "    <li>Por suerte te ha llamado un amigo que no iba a asistir y al final sí puede. Añádelo a mitad de la lista</li>\n",
    "</ol>\n",
    "         \n",
    " </td></tr>\n",
    "</table>"
   ]
  },
  {
   "cell_type": "code",
   "execution_count": 28,
   "metadata": {},
   "outputs": [
    {
     "name": "stdout",
     "output_type": "stream",
     "text": [
      "0 Marta\n",
      "1 Juan\n",
      "2 Antonio\n"
     ]
    }
   ],
   "source": [
    "lista_invitados = [\"Marta\", \"Juan\", \"Antonio\"]\n",
    "\n",
    "for i,n in enumerate(lista_invitados):\n",
    "    print(i,n)"
   ]
  },
  {
   "cell_type": "code",
   "execution_count": 29,
   "metadata": {},
   "outputs": [
    {
     "name": "stdout",
     "output_type": "stream",
     "text": [
      "['Antonio', 'Juan', 'Marta']\n"
     ]
    }
   ],
   "source": [
    "print(sorted(lista_invitados))"
   ]
  },
  {
   "cell_type": "code",
   "execution_count": 31,
   "metadata": {},
   "outputs": [
    {
     "name": "stdout",
     "output_type": "stream",
     "text": [
      "['Antonio', 'Juan', 'Marta']\n"
     ]
    }
   ],
   "source": [
    "lista_invitados.sort()\n",
    "print(lista_invitados)"
   ]
  },
  {
   "cell_type": "code",
   "execution_count": 34,
   "metadata": {},
   "outputs": [
    {
     "data": {
      "text/plain": [
       "'Antonio'"
      ]
     },
     "execution_count": 34,
     "metadata": {},
     "output_type": "execute_result"
    }
   ],
   "source": [
    "lista_invitados[0]"
   ]
  },
  {
   "cell_type": "code",
   "execution_count": 35,
   "metadata": {},
   "outputs": [
    {
     "name": "stdout",
     "output_type": "stream",
     "text": [
      "['Juan', 'Marta']\n"
     ]
    }
   ],
   "source": [
    "lista_invitados.remove(\"Antonio\")\n",
    "print(lista_invitados)"
   ]
  },
  {
   "cell_type": "code",
   "execution_count": 41,
   "metadata": {},
   "outputs": [
    {
     "data": {
      "text/plain": [
       "1"
      ]
     },
     "execution_count": 41,
     "metadata": {},
     "output_type": "execute_result"
    }
   ],
   "source": [
    "int(len(lista_invitados)/2)"
   ]
  },
  {
   "cell_type": "code",
   "execution_count": 45,
   "metadata": {},
   "outputs": [
    {
     "name": "stdout",
     "output_type": "stream",
     "text": [
      "['Juan', 'Javier', 'Jorge', 'Laura', 'Marta']\n"
     ]
    }
   ],
   "source": [
    "lista_invitados.insert(len(lista_invitados)//2, \"Jorge\")\n",
    "print(lista_invitados)"
   ]
  },
  {
   "attachments": {},
   "cell_type": "markdown",
   "metadata": {},
   "source": [
    "## 2. Tuplas\n",
    "Muy similares a las listas. Si en Notebooks anteriores definíamos a las listas como ordenadas y mutables, las tuplas son ordenadas e inmutables.\n",
    "\n",
    "* **Inmutables**: una vez creada la tupla con sus elementos iniciales, no se puede modificar\n",
    "* **Ordenadas**: podemos acceder a sus elementos a través del índice y reordenar la tupla según queramos\n",
    "\n",
    "Las tuplas se suelen usar para pequeñas colecciones de datos que no van a cambiar a lo largo del programa, como es el caso de las constantes.\n",
    "\n",
    "Si las listas se construían mediante corchetes `[]`, las tuplas lo hacen con los paréntesis `()`"
   ]
  },
  {
   "cell_type": "code",
   "execution_count": 46,
   "metadata": {},
   "outputs": [
    {
     "name": "stdout",
     "output_type": "stream",
     "text": [
      "(3, 'text')\n",
      "<class 'tuple'>\n"
     ]
    }
   ],
   "source": [
    "primera_tupla = (3, \"text\")\n",
    "print(primera_tupla)\n",
    "print(type(primera_tupla))"
   ]
  },
  {
   "cell_type": "code",
   "execution_count": 20,
   "metadata": {},
   "outputs": [
    {
     "name": "stdout",
     "output_type": "stream",
     "text": [
      "0 , 1\n",
      "0 , 2\n",
      "0 , 3\n"
     ]
    }
   ],
   "source": [
    "lista_de_tuplas = [(0,1),(0,2),(0,3)] #una lista de tuplas podría ser coordenadas o un barco en el tablero\n",
    "lista_de_tuplas\n",
    "\n",
    "for tupla in lista_de_tuplas:\n",
    "    print(tupla[0],',', tupla[1])"
   ]
  },
  {
   "cell_type": "code",
   "execution_count": 21,
   "metadata": {},
   "outputs": [
    {
     "name": "stdout",
     "output_type": "stream",
     "text": [
      "6 7\n",
      "<class 'tuple'>\n",
      "<class 'int'>\n"
     ]
    }
   ],
   "source": [
    "coordenada = (6,7)\n",
    "i,j = coordenada\n",
    "print(i,j)\n",
    "print(type(tupla))\n",
    "print(type(i))"
   ]
  },
  {
   "cell_type": "code",
   "execution_count": 22,
   "metadata": {},
   "outputs": [
    {
     "name": "stdout",
     "output_type": "stream",
     "text": [
      "0 , 3\n",
      "0 , 3\n",
      "0 , 3\n"
     ]
    }
   ],
   "source": [
    "## MANERA MÁS LIMPIA\n",
    "\n",
    "lista_de_tuplas = [(0,1),(0,2),(0,3)] #una lista de tuplas podría ser coordenadas o un barco en el tablero\n",
    "lista_de_tuplas\n",
    "\n",
    "for i,j in lista_de_tuplas: # i, j, k (se suele usar así)\n",
    "    print(tupla[0],',', tupla[1])"
   ]
  },
  {
   "cell_type": "code",
   "execution_count": null,
   "metadata": {},
   "outputs": [],
   "source": [
    "# pista barco TUPLA\n",
    "for (recorrer)\n",
    "barco1 = [(0,1), (0,2), (0,3)]\n",
    "barco2 = [(1,1), (1,2), (1,3)]\n",
    "\n",
    "lista_de_barcos = barco1 + barco2"
   ]
  },
  {
   "cell_type": "markdown",
   "metadata": {},
   "source": [
    "Los paréntesis ya se usan para reordenar operaciones `5 * (3 + 4)`, por lo que hay que añadir una coma cuando definamos una tupla con un único elemento, sino Python lo interpretará como un número."
   ]
  },
  {
   "cell_type": "code",
   "execution_count": 47,
   "metadata": {},
   "outputs": [
    {
     "name": "stdout",
     "output_type": "stream",
     "text": [
      "1\n",
      "<class 'int'>\n"
     ]
    }
   ],
   "source": [
    "otra_tupla = (1)\n",
    "print(otra_tupla)\n",
    "print(type(otra_tupla))"
   ]
  },
  {
   "cell_type": "code",
   "execution_count": 50,
   "metadata": {},
   "outputs": [
    {
     "name": "stdout",
     "output_type": "stream",
     "text": [
      "(1,)\n",
      "<class 'tuple'>\n"
     ]
    }
   ],
   "source": [
    "otra_tupla = (1,)\n",
    "print(otra_tupla)\n",
    "print(type(otra_tupla))"
   ]
  },
  {
   "cell_type": "code",
   "execution_count": 51,
   "metadata": {
    "collapsed": true,
    "jupyter": {
     "outputs_hidden": true
    },
    "tags": []
   },
   "outputs": [
    {
     "name": "stdout",
     "output_type": "stream",
     "text": [
      "(1, 2, 3, ('A', 'B', 'C'))\n",
      "1\n",
      "1\n",
      "2\n",
      "3\n",
      "('A', 'B', 'C')\n",
      "(1, 2)\n",
      "4\n"
     ]
    }
   ],
   "source": [
    "tupla_anid = (1, 2, 3, (\"A\", \"B\", \"C\"))\n",
    "print(tupla_anid)\n",
    "\n",
    "print(tupla_anid[0])\n",
    "\n",
    "for i in tupla_anid:\n",
    "    print(i)\n",
    "    \n",
    "print(tupla_anid[0:2])\n",
    "\n",
    "print(len(tupla_anid))"
   ]
  },
  {
   "cell_type": "code",
   "execution_count": 53,
   "metadata": {},
   "outputs": [
    {
     "data": {
      "text/plain": [
       "'A'"
      ]
     },
     "execution_count": 53,
     "metadata": {},
     "output_type": "execute_result"
    }
   ],
   "source": [
    "tupla_anid = (1, 2, 3, (\"A\", \"B\", \"C\"))\n",
    "\n",
    "tupla_anid[3][0]"
   ]
  },
  {
   "cell_type": "markdown",
   "metadata": {},
   "source": [
    "<table align=\"left\">\n",
    " <tr><td width=\"80\"><img src=\"./img/error.png\" style=\"width:auto;height:auto\"></td>\n",
    "     <td style=\"text-align:left\">\n",
    "         <h3>ERRORES tuplas</h3>\n",
    "         \n",
    " </td></tr>\n",
    "</table>"
   ]
  },
  {
   "cell_type": "markdown",
   "metadata": {},
   "source": [
    "Cuidado que las tuplas son inmutables, y una vez creadas no las podrás modificar después"
   ]
  },
  {
   "cell_type": "code",
   "execution_count": 56,
   "metadata": {
    "collapsed": true,
    "jupyter": {
     "outputs_hidden": true
    },
    "tags": []
   },
   "outputs": [
    {
     "ename": "TypeError",
     "evalue": "'tuple' object does not support item assignment",
     "output_type": "error",
     "traceback": [
      "\u001b[1;31m---------------------------------------------------------------------------\u001b[0m",
      "\u001b[1;31mTypeError\u001b[0m                                 Traceback (most recent call last)",
      "Cell \u001b[1;32mIn[56], line 2\u001b[0m\n\u001b[0;32m      1\u001b[0m tupla_error \u001b[38;5;241m=\u001b[39m (\u001b[38;5;241m1\u001b[39m,\u001b[38;5;241m2\u001b[39m,\u001b[38;5;241m3\u001b[39m)\n\u001b[1;32m----> 2\u001b[0m \u001b[43mtupla_error\u001b[49m\u001b[43m[\u001b[49m\u001b[38;5;241;43m0\u001b[39;49m\u001b[43m]\u001b[49m \u001b[38;5;241m=\u001b[39m \u001b[38;5;241m10\u001b[39m\n",
      "\u001b[1;31mTypeError\u001b[0m: 'tuple' object does not support item assignment"
     ]
    }
   ],
   "source": [
    "tupla_error = (1,2,3)\n",
    "tupla_error[0] = 10"
   ]
  },
  {
   "cell_type": "code",
   "execution_count": 57,
   "metadata": {},
   "outputs": [
    {
     "name": "stdout",
     "output_type": "stream",
     "text": [
      "(1, 2, 3, 4, 5, 6)\n"
     ]
    }
   ],
   "source": [
    "# Si queremos añadir elementos, podemos meterlos en otra tupla y sumarlas para que se concatenen\n",
    "tupla1 = (1,2,3)\n",
    "tupla2 = (4,5,6)\n",
    "tupla3 = tupla1 + tupla2\n",
    "\n",
    "print(tupla3)"
   ]
  },
  {
   "cell_type": "code",
   "execution_count": 73,
   "metadata": {},
   "outputs": [
    {
     "data": {
      "text/plain": [
       "(1, 2, 3, 4, 5, 6)"
      ]
     },
     "execution_count": 73,
     "metadata": {},
     "output_type": "execute_result"
    }
   ],
   "source": [
    "tupla3"
   ]
  },
  {
   "cell_type": "code",
   "execution_count": 58,
   "metadata": {},
   "outputs": [
    {
     "name": "stdout",
     "output_type": "stream",
     "text": [
      "[1, 2, 3, 4, 5, 6]\n"
     ]
    }
   ],
   "source": [
    "print(sorted(tupla3))"
   ]
  },
  {
   "cell_type": "markdown",
   "metadata": {},
   "source": [
    "### Listas y tuplas\n",
    "Podemos combinar listas y tuplas que no tendremos ningún problema, siempre y cuando respetemos las propiedades de cada tipo de dato."
   ]
  },
  {
   "cell_type": "code",
   "execution_count": 59,
   "metadata": {},
   "outputs": [
    {
     "name": "stdout",
     "output_type": "stream",
     "text": [
      "['Manzanas', ('Naranjas', 'Limones'), 'Fresas']\n",
      "Manzanas\n",
      "Fresas\n",
      "Naranjas\n"
     ]
    }
   ],
   "source": [
    "mi_tupla = (\"Naranjas\", \"Limones\")\n",
    "frutas = [\"Manzanas\", mi_tupla, \"Fresas\"]\n",
    "print(frutas)\n",
    "print(frutas[0])\n",
    "print(frutas[-1])\n",
    "print(frutas[1][0])"
   ]
  },
  {
   "cell_type": "code",
   "execution_count": 62,
   "metadata": {},
   "outputs": [
    {
     "data": {
      "text/plain": [
       "['Naranjas', 'Limones']"
      ]
     },
     "execution_count": 62,
     "metadata": {},
     "output_type": "execute_result"
    }
   ],
   "source": [
    "list(frutas[1])"
   ]
  },
  {
   "cell_type": "code",
   "execution_count": 60,
   "metadata": {},
   "outputs": [
    {
     "name": "stdout",
     "output_type": "stream",
     "text": [
      "<class 'list'>\n"
     ]
    }
   ],
   "source": [
    "new_var = frutas[1]\n",
    "new_var = list(new_var)\n",
    "print(type(new_var))"
   ]
  },
  {
   "cell_type": "code",
   "execution_count": 63,
   "metadata": {},
   "outputs": [
    {
     "name": "stdout",
     "output_type": "stream",
     "text": [
      "<class 'list'>\n",
      "['Manzanas', ('Naranjas', 'Limones'), 'Fresas']\n",
      "<class 'tuple'>\n",
      "('Naranjas', 'Limones')\n"
     ]
    }
   ],
   "source": [
    "print(type(frutas))\n",
    "print(frutas)\n",
    "print(type(frutas[1]))\n",
    "print((frutas[1]))"
   ]
  },
  {
   "cell_type": "code",
   "execution_count": 64,
   "metadata": {},
   "outputs": [
    {
     "name": "stdout",
     "output_type": "stream",
     "text": [
      "['Manzanas', ('Naranjas', 'Limones'), 'Fresas', 'Melocoton']\n"
     ]
    },
    {
     "ename": "AttributeError",
     "evalue": "'tuple' object has no attribute 'append'",
     "output_type": "error",
     "traceback": [
      "\u001b[1;31m---------------------------------------------------------------------------\u001b[0m",
      "\u001b[1;31mAttributeError\u001b[0m                            Traceback (most recent call last)",
      "Cell \u001b[1;32mIn[64], line 3\u001b[0m\n\u001b[0;32m      1\u001b[0m frutas\u001b[38;5;241m.\u001b[39mappend(\u001b[38;5;124m\"\u001b[39m\u001b[38;5;124mMelocoton\u001b[39m\u001b[38;5;124m\"\u001b[39m)\n\u001b[0;32m      2\u001b[0m \u001b[38;5;28mprint\u001b[39m(frutas)\n\u001b[1;32m----> 3\u001b[0m \u001b[43mfrutas\u001b[49m\u001b[43m[\u001b[49m\u001b[38;5;241;43m1\u001b[39;49m\u001b[43m]\u001b[49m\u001b[38;5;241;43m.\u001b[39;49m\u001b[43mappend\u001b[49m(\u001b[38;5;124m\"\u001b[39m\u001b[38;5;124mOtro melocoton\u001b[39m\u001b[38;5;124m\"\u001b[39m)\n",
      "\u001b[1;31mAttributeError\u001b[0m: 'tuple' object has no attribute 'append'"
     ]
    }
   ],
   "source": [
    "frutas.append(\"Melocoton\")\n",
    "print(frutas)\n",
    "frutas[1].append(\"Otro melocoton\")"
   ]
  },
  {
   "cell_type": "code",
   "execution_count": 65,
   "metadata": {},
   "outputs": [
    {
     "name": "stdout",
     "output_type": "stream",
     "text": [
      "['Naranjas', 'Limones']\n"
     ]
    }
   ],
   "source": [
    "mi_tupla_tolist = list(mi_tupla)\n",
    "print(mi_tupla_tolist)"
   ]
  },
  {
   "cell_type": "markdown",
   "metadata": {},
   "source": [
    "<table align=\"left\">\n",
    " <tr><td width=\"80\"><img src=\"./img/ejercicio.png\" style=\"width:auto;height:auto\"></td>\n",
    "     <td style=\"text-align:left\">\n",
    "         <h3>Ejercicio de tuplas</h3>\n",
    "\n",
    "\n",
    "<ol>\n",
    "    <li>Crea una tupla con un único valor. Comprueba su tipo</li>\n",
    "    <li>Crea otra tupla con 3 elementos</li>\n",
    "    <li>Añadele (como puedas) a la primera tupla, los tres elementos de la segunda</li>\n",
    "    <li>Obtén una cuarta tupla a partir de los dos primeros valores de la tupla creada del apartado anterior</li>\n",
    "</ol>\n",
    "         \n",
    " </td></tr>\n",
    "</table>"
   ]
  },
  {
   "cell_type": "code",
   "execution_count": 84,
   "metadata": {},
   "outputs": [
    {
     "name": "stdout",
     "output_type": "stream",
     "text": [
      "<class 'tuple'>\n"
     ]
    }
   ],
   "source": [
    "tupla_1 = (\"4\",)\n",
    "print(type(tupla_1))"
   ]
  },
  {
   "cell_type": "code",
   "execution_count": 85,
   "metadata": {},
   "outputs": [],
   "source": [
    "tupla_2 = (\"2\",\"8\",\"5\")"
   ]
  },
  {
   "cell_type": "code",
   "execution_count": 88,
   "metadata": {},
   "outputs": [
    {
     "name": "stdout",
     "output_type": "stream",
     "text": [
      "['4']\n"
     ]
    }
   ],
   "source": [
    "list_1 = list(tupla_1)\n",
    "print(list_1)"
   ]
  },
  {
   "cell_type": "code",
   "execution_count": 89,
   "metadata": {},
   "outputs": [
    {
     "name": "stdout",
     "output_type": "stream",
     "text": [
      "['4', ('2', '8', '5')]\n"
     ]
    }
   ],
   "source": [
    "list_1.append(tupla_2)\n",
    "print(list_1)"
   ]
  },
  {
   "cell_type": "code",
   "execution_count": 87,
   "metadata": {},
   "outputs": [
    {
     "name": "stdout",
     "output_type": "stream",
     "text": [
      "['4', '2', '8', '5']\n",
      "('4', '2', '8', '5')\n"
     ]
    }
   ],
   "source": [
    "list_1 = list_1 + list(tupla_2)\n",
    "print(list_1)\n",
    "tuple_1 = tuple(list_1)\n",
    "print(tuple_1)"
   ]
  },
  {
   "cell_type": "code",
   "execution_count": 90,
   "metadata": {},
   "outputs": [
    {
     "name": "stdout",
     "output_type": "stream",
     "text": [
      "('4', '2')\n"
     ]
    }
   ],
   "source": [
    "tuple_3 = tuple_1[0:2]\n",
    "print(tuple_3)"
   ]
  },
  {
   "cell_type": "markdown",
   "metadata": {},
   "source": [
    "## 3. Diccionarios\n",
    "En este tipo de colecciones no solo podemos agrupar datos, sino que tenemos la posibilidad de establecer una relación entre los mismos, con la forma **clave: valor**.\n",
    "\n",
    "La sintaxis  es mediante llaves `{}`\n",
    "\n",
    "> nombre_diccionario = {clave1: valor1, clave2: valor2, clave3: valor3}\n",
    "\n",
    "Si veíamos que las listas son elementos mutables y y ordenadas, y las tuplas inmutables y ordenadas, los diccionarios son:\n",
    "\n",
    "* **Mutables**: podemos modificar sus elementos\n",
    "* **Desordenado**: la potencia de acceso de los diccionarios es su formato clave-valor, no su orden. Aun así, el dicionario conserva el orden de los elemento según los vamos insertando.\n",
    "\n",
    "Vamos a declarar un diccionario en el que definiremos elementos de un coche"
   ]
  },
  {
   "cell_type": "code",
   "execution_count": 54,
   "metadata": {},
   "outputs": [
    {
     "name": "stdout",
     "output_type": "stream",
     "text": [
      "Gris\n"
     ]
    }
   ],
   "source": [
    "lista_coche = [\"Gris\", \"VW\", 1500, True]\n",
    "print(lista_coche[0])"
   ]
  },
  {
   "cell_type": "code",
   "execution_count": 55,
   "metadata": {},
   "outputs": [
    {
     "data": {
      "text/plain": [
       "{'color': 'Gris', 'marca': 'VW', 'peso': 1500, 'Cambio automatico': True}"
      ]
     },
     "execution_count": 55,
     "metadata": {},
     "output_type": "execute_result"
    }
   ],
   "source": [
    "coche = {\"color\": \"Gris\", # Diccionario siempre entre llaves ¨{}\n",
    "        \"marca\": \"VW\",\n",
    "        \"peso\": 1500,\n",
    "        \"Cambio automatico\": True}\n",
    "coche"
   ]
  },
  {
   "cell_type": "code",
   "execution_count": 56,
   "metadata": {},
   "outputs": [
    {
     "name": "stdout",
     "output_type": "stream",
     "text": [
      "<class 'dict'>\n"
     ]
    }
   ],
   "source": [
    "print(type(coche))"
   ]
  },
  {
   "cell_type": "code",
   "execution_count": 57,
   "metadata": {},
   "outputs": [
    {
     "data": {
      "text/plain": [
       "'Gris'"
      ]
     },
     "execution_count": 57,
     "metadata": {},
     "output_type": "execute_result"
    }
   ],
   "source": [
    "coche[\"color\"] # Para preguntar siempre entre corchetes"
   ]
  },
  {
   "cell_type": "code",
   "execution_count": 58,
   "metadata": {},
   "outputs": [],
   "source": [
    "coche = {\"color\": \"Gris\",\n",
    "        \"marca\": \"VW\",\n",
    "        \"peso\": 1500,\n",
    "        \"Cambio automatico\": True,\n",
    "        (1,5): {\"Hola\": [1,3]}}"
   ]
  },
  {
   "cell_type": "code",
   "execution_count": 59,
   "metadata": {},
   "outputs": [
    {
     "data": {
      "text/plain": [
       "['color', 'marca', 'peso', 'Cambio automatico', (1, 5)]"
      ]
     },
     "execution_count": 59,
     "metadata": {},
     "output_type": "execute_result"
    }
   ],
   "source": [
    "list(coche.keys())"
   ]
  },
  {
   "cell_type": "code",
   "execution_count": 30,
   "metadata": {},
   "outputs": [
    {
     "data": {
      "text/plain": [
       "{'título': '100 años de soledad', 'autor': 'G.G Marquez', 'año': '1060'}"
      ]
     },
     "execution_count": 30,
     "metadata": {},
     "output_type": "execute_result"
    }
   ],
   "source": [
    "libro = {\"título\": \"100 años de soledad\", \"autor\":\"G.G Marquez\", \"año\":\"1060\"}\n",
    "libro"
   ]
  },
  {
   "cell_type": "code",
   "execution_count": 31,
   "metadata": {},
   "outputs": [
    {
     "data": {
      "text/plain": [
       "{'título': 'Pilares de la tierra', 'autor': 'Ken Follet', 'año': '1060'}"
      ]
     },
     "execution_count": 31,
     "metadata": {},
     "output_type": "execute_result"
    }
   ],
   "source": [
    "libro2 = {\"título\": \"Pilares de la tierra\", \"autor\":\"Ken Follet\", \"año\":\"1060\"}\n",
    "libro2"
   ]
  },
  {
   "cell_type": "code",
   "execution_count": 32,
   "metadata": {},
   "outputs": [
    {
     "data": {
      "text/plain": [
       "[{'título': '100 años de soledad', 'autor': 'G.G Marquez', 'año': '1060'},\n",
       " {'título': 'Pilares de la tierra', 'autor': 'Ken Follet', 'año': '1060'}]"
      ]
     },
     "execution_count": 32,
     "metadata": {},
     "output_type": "execute_result"
    }
   ],
   "source": [
    "biblioteca = [libro, libro2]\n",
    "biblioteca"
   ]
  },
  {
   "cell_type": "code",
   "execution_count": 33,
   "metadata": {},
   "outputs": [
    {
     "name": "stdout",
     "output_type": "stream",
     "text": [
      "{'título': '100 años de soledad', 'autor': 'G.G Marquez', 'año': '1060'}\n",
      "{'título': '100 años de soledad', 'autor': 'otro autor', 'año': '1060'}\n"
     ]
    }
   ],
   "source": [
    "print(libro)\n",
    "libro[\"autor\"] = \"otro autor\"\n",
    "print(libro)"
   ]
  },
  {
   "cell_type": "code",
   "execution_count": 60,
   "metadata": {},
   "outputs": [
    {
     "data": {
      "text/plain": [
       "3"
      ]
     },
     "execution_count": 60,
     "metadata": {},
     "output_type": "execute_result"
    }
   ],
   "source": [
    "coche[(1,5)]['Hola'][1]"
   ]
  },
  {
   "cell_type": "markdown",
   "metadata": {},
   "source": [
    "Se puede almacenar todo tipo de datos: numero, cadena, booleano, listas, tuplas, diccionarios...\n",
    "\n",
    "Cuando declaremos el diccionario, lo podemos hacer en una sola linea `coche = {\"color\"=\"Gris\", \"marca\"...}`, aunque se recomienda por sencillez a la hora de leer el código, realizar esta acción en varias líneas. Si escribimos el primer elemento y presionamos enter, Jupyter introduce automáticamente la tabulación."
   ]
  },
  {
   "cell_type": "markdown",
   "metadata": {},
   "source": [
    "### Acceso, modificación, añadir, eliminar"
   ]
  },
  {
   "cell_type": "code",
   "execution_count": 61,
   "metadata": {},
   "outputs": [
    {
     "data": {
      "text/plain": [
       "{'color': 'Gris',\n",
       " 'marca': 'VW',\n",
       " 'peso': 1500,\n",
       " 'Cambio automatico': True,\n",
       " (1, 5): {'Hola': [1, 3]}}"
      ]
     },
     "execution_count": 61,
     "metadata": {},
     "output_type": "execute_result"
    }
   ],
   "source": [
    "coche"
   ]
  },
  {
   "cell_type": "code",
   "execution_count": 62,
   "metadata": {},
   "outputs": [
    {
     "name": "stdout",
     "output_type": "stream",
     "text": [
      "{'color': 'Gris Blanco', 'marca': 'VW', 'peso': 1500, 'Cambio automatico': True, (1, 5): {'Hola': [1, 3]}}\n"
     ]
    }
   ],
   "source": [
    "coche['color'] = coche['color'] + \" Blanco\"\n",
    "print(coche)"
   ]
  },
  {
   "cell_type": "code",
   "execution_count": 63,
   "metadata": {},
   "outputs": [
    {
     "name": "stdout",
     "output_type": "stream",
     "text": [
      "True\n",
      "{'color': 'Blanco', 'marca': 'VW', 'peso': 1500, 'Cambio automatico': True, (1, 5): {'Hola': [1, 3]}}\n",
      "{'color': 'Blanco', 'marca': 'VW', 'peso': 1500, 'Cambio automatico': True, (1, 5): {'Hola': [1, 3]}, 'puertas': 4}\n",
      "4\n",
      "{'color': 'Blanco', 'marca': 'VW', 'peso': 1500, 'Cambio automatico': True, (1, 5): {'Hola': [1, 3]}}\n"
     ]
    }
   ],
   "source": [
    "# Acceso\n",
    "print(coche['Cambio automatico'])\n",
    "\n",
    "# Modificar\n",
    "coche['color'] = \"Blanco\"\n",
    "print(coche)\n",
    "\n",
    "# Añadir\n",
    "coche['puertas'] = 4\n",
    "print(coche)\n",
    "\n",
    "# Eliminar\n",
    "# del coche['puertas']\n",
    "print(coche.pop('puertas'))\n",
    "print(coche)"
   ]
  },
  {
   "cell_type": "code",
   "execution_count": 64,
   "metadata": {},
   "outputs": [
    {
     "name": "stdout",
     "output_type": "stream",
     "text": [
      "['color', 'marca', 'peso', 'Cambio automatico', (1, 5)]\n",
      "['Blanco', 'VW', 1500, True, {'Hola': [1, 3]}]\n"
     ]
    }
   ],
   "source": [
    "print(list(coche.keys())) \n",
    "print(list(coche.values()))"
   ]
  },
  {
   "cell_type": "code",
   "execution_count": 68,
   "metadata": {},
   "outputs": [
    {
     "name": "stdout",
     "output_type": "stream",
     "text": [
      "Blanco\n",
      "VW\n",
      "1500\n",
      "True\n",
      "{'Hola': [1, 3]}\n",
      "{'color': 'Rojo', 'marca': 'VW', 'peso': 1500, 'Cambio automatico': True, (1, 5): {'Hola': [1, 3]}}\n"
     ]
    }
   ],
   "source": [
    "for clave in coche.keys():\n",
    "    print(coche[clave])\n",
    "    if clave == \"color\":\n",
    "        coche[clave] = \"Rojo\"\n",
    "\n",
    "print(coche)"
   ]
  },
  {
   "cell_type": "code",
   "execution_count": 71,
   "metadata": {},
   "outputs": [
    {
     "name": "stdout",
     "output_type": "stream",
     "text": [
      "{'color': 'verde', 'marca': 'VW', 'peso': 1500, 'Cambio automatico': True, (1, 5): {'Hola': [1, 3]}}\n"
     ]
    }
   ],
   "source": [
    "coche[\"color\"] = \"verde\"\n",
    "print(coche)"
   ]
  },
  {
   "cell_type": "code",
   "execution_count": 67,
   "metadata": {},
   "outputs": [
    {
     "name": "stdout",
     "output_type": "stream",
     "text": [
      "['Blanco', 'VW', 1500, True, {'Hola': [1, 3]}]\n"
     ]
    }
   ],
   "source": [
    "print(list(coche.values()))"
   ]
  },
  {
   "cell_type": "code",
   "execution_count": 73,
   "metadata": {},
   "outputs": [
    {
     "name": "stdout",
     "output_type": "stream",
     "text": [
      "[('color', 'verde'), ('marca', 'VW'), ('peso', 1500), ('Cambio automatico', True), ((1, 5), {'Hola': [1, 3]})]\n"
     ]
    }
   ],
   "source": [
    "print(list(coche.items())) # Nos lo devuelve una lista de tuplas, para poder recorrerlo"
   ]
  },
  {
   "cell_type": "code",
   "execution_count": 75,
   "metadata": {},
   "outputs": [
    {
     "name": "stdout",
     "output_type": "stream",
     "text": [
      "La clave es color y el valor verde\n",
      "La clave es marca y el valor VW\n",
      "La clave es peso y el valor 2000\n",
      "La clave es Cambio automatico y el valor True\n",
      "La clave es (1, 5) y el valor {'Hola': [1, 3]}\n",
      "{'color': 'verde', 'marca': 'VW', 'peso': 2000, 'Cambio automatico': True, (1, 5): {'Hola': [1, 3]}}\n"
     ]
    }
   ],
   "source": [
    "for clave,valor in coche.items():\n",
    "    print(\"La clave es\", clave, \"y el valor\", valor)\n",
    "    if clave == \"peso\":\n",
    "        coche[\"peso\"] = 2000 #Así se cambia dentro del ford con .items\n",
    "\n",
    "print(coche)"
   ]
  },
  {
   "cell_type": "code",
   "execution_count": 76,
   "metadata": {},
   "outputs": [
    {
     "data": {
      "text/plain": [
       "{'color': 'verde',\n",
       " 'marca': 'VW',\n",
       " 'peso': 2000,\n",
       " 'Cambio automatico': True,\n",
       " (1, 5): {'Hola': [1, 3]},\n",
       " 'puertas': 4,\n",
       " 'precio': 20000}"
      ]
     },
     "execution_count": 76,
     "metadata": {},
     "output_type": "execute_result"
    }
   ],
   "source": [
    "# AÑADIR CAMPOS\n",
    "coche[\"puertas\"] = 4\n",
    "coche[\"precio\"] = 20000\n",
    "coche"
   ]
  },
  {
   "cell_type": "markdown",
   "metadata": {},
   "source": [
    "Para más detalle de los métodos de los diccionario puedes [consultar la documentación](https://www.w3schools.com/python/python_ref_dictionary.asp)"
   ]
  },
  {
   "cell_type": "code",
   "execution_count": 119,
   "metadata": {},
   "outputs": [
    {
     "name": "stdout",
     "output_type": "stream",
     "text": [
      "{'Direccion': ['Avenida 1', 'Avenida 2'], 'Tamaño': [110, 90]}\n"
     ]
    }
   ],
   "source": [
    "# Podemos empezar tambien mediante un diccionario vacío\n",
    "tienda = {}\n",
    "tienda['Direccion'] = [\"Avenida 1\", \"Avenida 2\"]\n",
    "tienda['Tamaño'] = [110, 90]\n",
    "print(tienda)"
   ]
  },
  {
   "cell_type": "code",
   "execution_count": 120,
   "metadata": {},
   "outputs": [
    {
     "name": "stdout",
     "output_type": "stream",
     "text": [
      "['Avenida 1', 'Avenida 2', 110, 90]\n"
     ]
    }
   ],
   "source": [
    "lista_total = [\"Avenida 1\", \"Avenida 2\"] + [110, 90]\n",
    "print(lista_total)"
   ]
  },
  {
   "cell_type": "code",
   "execution_count": 121,
   "metadata": {},
   "outputs": [
    {
     "name": "stdout",
     "output_type": "stream",
     "text": [
      "{0: 'Avenida 1', 1: 'Avenida 2', 2: 110, 3: 90}\n"
     ]
    }
   ],
   "source": [
    "my_dict = {}\n",
    "\n",
    "for i, elem in enumerate(lista_total):\n",
    "    my_dict[i] = elem\n",
    "\n",
    "print(my_dict)"
   ]
  },
  {
   "cell_type": "code",
   "execution_count": 122,
   "metadata": {},
   "outputs": [
    {
     "name": "stdout",
     "output_type": "stream",
     "text": [
      "{'Dirección': 'Avenida 2', 'Tamaño': 90}\n"
     ]
    }
   ],
   "source": [
    "my_dict = {}\n",
    "\n",
    "for i, elem in enumerate(lista_total):\n",
    "    if i < 2:\n",
    "        my_dict['Dirección'] = elem\n",
    "    else:\n",
    "        my_dict['Tamaño'] = elem\n",
    "\n",
    "print(my_dict)"
   ]
  },
  {
   "cell_type": "code",
   "execution_count": 160,
   "metadata": {},
   "outputs": [
    {
     "name": "stdout",
     "output_type": "stream",
     "text": [
      "90\n",
      "90\n"
     ]
    }
   ],
   "source": [
    "print(my_dict[3])\n",
    "print(lista_total[3])"
   ]
  },
  {
   "cell_type": "code",
   "execution_count": 77,
   "metadata": {},
   "outputs": [
    {
     "name": "stdout",
     "output_type": "stream",
     "text": [
      "0 rojo\n",
      "1 verde\n",
      "2 blanco\n",
      "3 gris\n"
     ]
    },
    {
     "data": {
      "text/plain": [
       "{0: 'rojo', 1: 'verde', 2: 'blanco', 3: 'gris'}"
      ]
     },
     "execution_count": 77,
     "metadata": {},
     "output_type": "execute_result"
    }
   ],
   "source": [
    "lista = [\"rojo\", \"verde\", \"blanco\", \"gris\"]\n",
    "diccionario = {}\n",
    "\n",
    "for indice, valor in enumerate(lista):\n",
    "    print(indice, valor)\n",
    "    diccionario[indice] = valor \n",
    "\n",
    "diccionario"
   ]
  },
  {
   "cell_type": "markdown",
   "metadata": {},
   "source": [
    "<table align=\"left\">\n",
    " <tr><td width=\"80\"><img src=\"./img/error.png\" style=\"width:auto;height:auto\"></td>\n",
    "     <td style=\"text-align:left\">\n",
    "         <h3>ERRORES en diccionarios</h3>\n",
    "         \n",
    " </td></tr>\n",
    "</table>"
   ]
  },
  {
   "cell_type": "markdown",
   "metadata": {},
   "source": [
    "Si hay una clave que no existe en el diccionario, saltará un error.\n",
    "\n",
    "En este caso, el error es bastante intuitivo: `KeyError`, no encuentra la clave"
   ]
  },
  {
   "cell_type": "code",
   "execution_count": 79,
   "metadata": {},
   "outputs": [
    {
     "name": "stdout",
     "output_type": "stream",
     "text": [
      "Hola\n"
     ]
    }
   ],
   "source": [
    "coche = {\"color\": \"Gris\",\n",
    "        \"marca\": \"VW\"}\n",
    "coche[\"peso\"] = 1500\n",
    "print(\"Hola\")"
   ]
  },
  {
   "cell_type": "markdown",
   "metadata": {},
   "source": [
    "**¿Cómo solventar esto?** Sirmpre tienes la opción de usar el bloque `try/except`, pero en este caso, los diccionarios tienen una solución más elegante: `get(clave, valor si no existe)`"
   ]
  },
  {
   "cell_type": "code",
   "execution_count": 84,
   "metadata": {},
   "outputs": [],
   "source": [
    "# coche['peso'] = 500"
   ]
  },
  {
   "cell_type": "code",
   "execution_count": 124,
   "metadata": {},
   "outputs": [
    {
     "name": "stdout",
     "output_type": "stream",
     "text": [
      "{'color': 'Gris', 'marca': 'VW'}\n"
     ]
    }
   ],
   "source": [
    "print(coche)"
   ]
  },
  {
   "cell_type": "code",
   "execution_count": 126,
   "metadata": {},
   "outputs": [
    {
     "name": "stdout",
     "output_type": "stream",
     "text": [
      "No hay clave de peso\n",
      "Hola\n"
     ]
    }
   ],
   "source": [
    "a = coche.get(\"peso\", \"No hay clave de peso\")\n",
    "print(a)\n",
    "print(\"Hola\")"
   ]
  },
  {
   "cell_type": "code",
   "execution_count": 127,
   "metadata": {},
   "outputs": [
    {
     "name": "stdout",
     "output_type": "stream",
     "text": [
      "No hay ruedas\n"
     ]
    }
   ],
   "source": [
    "a = coche.get(\"ruedas\", False)\n",
    "if a == False:\n",
    "    print(\"No hay ruedas\")"
   ]
  },
  {
   "cell_type": "markdown",
   "metadata": {},
   "source": [
    "### Iterar\n",
    "Que el diccionario no esté ordenado, no quiere decir que no podamos iterar sus elementos, ya que también es un **interable**, como los son las listas o las tuplas."
   ]
  },
  {
   "cell_type": "code",
   "execution_count": 81,
   "metadata": {},
   "outputs": [
    {
     "name": "stdout",
     "output_type": "stream",
     "text": [
      "color Gris\n",
      "marca VW\n"
     ]
    }
   ],
   "source": [
    "coche = {\"color\": \"Gris\",\n",
    "        \"marca\": \"VW\"}\n",
    "\n",
    "for clave in coche: #.keys aunque no lo pongas en un for hace lo mismo.\n",
    "    print(clave, coche[clave])\n",
    "    "
   ]
  },
  {
   "cell_type": "code",
   "execution_count": 134,
   "metadata": {},
   "outputs": [
    {
     "name": "stdout",
     "output_type": "stream",
     "text": [
      "Gris\n",
      "VW\n"
     ]
    }
   ],
   "source": [
    "for i in coche.values():\n",
    "    print(i)"
   ]
  },
  {
   "cell_type": "code",
   "execution_count": 129,
   "metadata": {},
   "outputs": [
    {
     "name": "stdout",
     "output_type": "stream",
     "text": [
      "color Gris\n",
      "marca VW\n"
     ]
    }
   ],
   "source": [
    "for clave, valor in coche.items():\n",
    "    print(clave, valor)"
   ]
  },
  {
   "attachments": {},
   "cell_type": "markdown",
   "metadata": {},
   "source": [
    "<table align=\"left\">\n",
    " <tr><td width=\"80\"><img src=\"./img/ejercicio.png\" style=\"width:auto;height:auto\"></td>\n",
    "     <td style=\"text-align:left\">\n",
    "         <h3>Ejercicio de diccionarios</h3>\n",
    "\n",
    "\n",
    "<ol>\n",
    "    <li>Crea un diccionario con las caracteristicas de un televisor: tamaño(float), smarttv(bool) y marca(str)</li>\n",
    "    <li>Añade otra característica del tv</li>\n",
    "    <li>Modifica una de ellas</li>\n",
    "    <li>Imprime por pantalla sus claves, valores.</li>\n",
    "</ol>\n",
    "         \n",
    " </td></tr>\n",
    "</table>"
   ]
  },
  {
   "cell_type": "code",
   "execution_count": 82,
   "metadata": {},
   "outputs": [],
   "source": [
    "tv_1 = {\"Tamaño\": 55.6, \"Smarttv\": True, \"Marca\": \"Samsung\"}\n"
   ]
  },
  {
   "cell_type": "code",
   "execution_count": 83,
   "metadata": {},
   "outputs": [],
   "source": [
    "tv_1[\"color\"] = \"azul\""
   ]
  },
  {
   "cell_type": "code",
   "execution_count": 84,
   "metadata": {},
   "outputs": [
    {
     "data": {
      "text/plain": [
       "{'Tamaño': 55.6, 'Smarttv': True, 'Marca': 'Samsung', 'color': 'azul'}"
      ]
     },
     "execution_count": 84,
     "metadata": {},
     "output_type": "execute_result"
    }
   ],
   "source": [
    "tv_1"
   ]
  },
  {
   "cell_type": "code",
   "execution_count": 85,
   "metadata": {},
   "outputs": [
    {
     "data": {
      "text/plain": [
       "{'Tamaño': 55.6, 'Smarttv': False, 'Marca': 'Samsung', 'color': 'azul'}"
      ]
     },
     "execution_count": 85,
     "metadata": {},
     "output_type": "execute_result"
    }
   ],
   "source": [
    "tv_1[\"Smarttv\"] = False\n",
    "tv_1"
   ]
  },
  {
   "cell_type": "code",
   "execution_count": 91,
   "metadata": {},
   "outputs": [
    {
     "name": "stdout",
     "output_type": "stream",
     "text": [
      "Tamaño : 55.6\n",
      "Smarttv : False\n",
      "Marca : Samsung\n",
      "color : azul\n"
     ]
    }
   ],
   "source": [
    "for i in tv_1: #.keys aunque no lo pongas en un for hace lo mismo.\n",
    "    print(i, \":\", tv_1[i])\n",
    "    "
   ]
  },
  {
   "cell_type": "code",
   "execution_count": 87,
   "metadata": {},
   "outputs": [
    {
     "name": "stdout",
     "output_type": "stream",
     "text": [
      "Tamaño\n",
      "Smarttv\n",
      "Marca\n",
      "color\n",
      "55.6\n",
      "False\n",
      "Samsung\n",
      "azul\n"
     ]
    }
   ],
   "source": [
    "for i in tv_1.keys():\n",
    "    print(i)\n",
    "    \n",
    "for i in tv_1.values():\n",
    "    print(i)"
   ]
  },
  {
   "cell_type": "markdown",
   "metadata": {},
   "source": [
    "### **Biblioteca**\n",
    "##### 1. Inicializar una biblioteca con 3 libros, para cada uno de ellos_ titulo, autor, año\n",
    "##### 2. Hacer un menu de usuario con las siguientes opciones:\n",
    "##### 2.1 Imprimir biblioteca\n",
    "##### 2.2 Buscar libro por título e imprimir su info.\n",
    "##### 2.3 Añadir libro: El usuario tiene que meter la información mediante input (título, autor, año)\n",
    "##### 2.4 Eliminar libro: Borrar el libro (buscado por autor) de la biblioteca"
   ]
  },
  {
   "cell_type": "code",
   "execution_count": 5,
   "metadata": {},
   "outputs": [],
   "source": [
    "book1 = { \"titulo\" : \"El nombre del viento\", \"autor\" : \"Patrick Rothfuss\", \"año\" : 2007}\n",
    "book2 = { \"titulo\" : \"Memorias de Idhun I\", \"autor\" : \"Laura Gallego\", \"año\" : 2002}\n",
    "book3 = { \"titulo\" : \"Normal people\", \"autor\" : \"Sally Rooney\", \"año\" : 2018}\n",
    "\n",
    "mi_biblioteca = [book1, book2,book3]\n",
    "# Lista de diccionarios"
   ]
  },
  {
   "cell_type": "code",
   "execution_count": 147,
   "metadata": {},
   "outputs": [
    {
     "data": {
      "text/plain": [
       "[{'titulo': 'El nombre del viento', 'autor': 'Patrick Rothfuss', 'año': 2007},\n",
       " {'titulo': 'Memorias de Idhun I', 'autor': 'Laura Gallego', 'año': 2002},\n",
       " {'titulo': 'Normal people', 'autor': 'Sally Rooney', 'año': 2018}]"
      ]
     },
     "execution_count": 147,
     "metadata": {},
     "output_type": "execute_result"
    }
   ],
   "source": [
    "mi_biblioteca"
   ]
  },
  {
   "cell_type": "code",
   "execution_count": 8,
   "metadata": {},
   "outputs": [
    {
     "name": "stdout",
     "output_type": "stream",
     "text": [
      "{'titulo': 'El nombre del viento', 'autor': 'Patrick Rothfuss', 'año': 2007}\n"
     ]
    }
   ],
   "source": [
    "# Buscar libro\n",
    "buscar_libro = \"El nombre del viento\" # Esto cambia \n",
    "\n",
    "for libro in mi_biblioteca:\n",
    "    if libro[\"titulo\"] == buscar_libro:\n",
    "        print(libro)"
   ]
  },
  {
   "cell_type": "code",
   "execution_count": 10,
   "metadata": {},
   "outputs": [
    {
     "name": "stdout",
     "output_type": "stream",
     "text": [
      "1 {'titulo': 'El nombre del viento', 'autor': 'Patrick Rothfuss', 'año': 2007}\n",
      "2 {'titulo': 'Memorias de Idhun I', 'autor': 'Laura Gallego', 'año': 2002}\n",
      "3 {'titulo': 'Normal people', 'autor': 'Sally Rooney', 'año': 2018}\n"
     ]
    }
   ],
   "source": [
    "# Imprimir lista con índice\n",
    "\n",
    "for indice,libro in enumerate(mi_biblioteca): \n",
    "    print(indice +1, libro)"
   ]
  },
  {
   "cell_type": "code",
   "execution_count": 12,
   "metadata": {},
   "outputs": [
    {
     "name": "stdout",
     "output_type": "stream",
     "text": [
      "[{'autor': 'Patrick Rothfuss', 'año': 2007, 'titulo': 'El nombre del viento'},\n",
      " {'autor': 'Laura Gallego', 'año': 2002, 'titulo': 'Memorias de Idhun I'},\n",
      " {'autor': 'Sally Rooney', 'año': 2018, 'titulo': 'Normal people'},\n",
      " {'autor': 'Tolkien', 'año': 1940, 'titulo': 'El Hobbit'},\n",
      " {'autor': 'Teo', 'año': 2007, 'titulo': 'Teo'}]\n"
     ]
    }
   ],
   "source": [
    "# Añadir libro\n",
    "import pprint # Pretty print. Formato más agradable.\n",
    "nuevo_libro = {}\n",
    "\n",
    "add_titulo = input(\"Escribe el título del libro:\")\n",
    "nuevo_libro[\"titulo\"] = add_titulo\n",
    "\n",
    "add_autor = input(\"Escribe el nombre del autor:\")\n",
    "nuevo_libro[\"autor\"] = add_autor\n",
    "\n",
    "add_año = input(\"Escribe el año de la publicación:\")\n",
    "nuevo_libro[\"año\"] = int(add_año)\n",
    "\n",
    "mi_biblioteca.append(nuevo_libro)\n",
    "pprint.pprint(mi_biblioteca)"
   ]
  },
  {
   "cell_type": "code",
   "execution_count": 140,
   "metadata": {},
   "outputs": [
    {
     "data": {
      "text/plain": [
       "[{'titulo': 'El nombre del viento', 'autor': 'Patrick Rothfuss', 'año': 2007},\n",
       " {'titulo': 'Memorias de Idhun I', 'autor': 'Laura Gallego', 'año': 2002},\n",
       " {'titulo': 'Normal people', 'autor': 'Sally Rooney', 'año': 2018},\n",
       " {'titulo': 'El Hobbit', 'autor': 'J. R. R. Tolkien', 'año': '1937'}]"
      ]
     },
     "execution_count": 140,
     "metadata": {},
     "output_type": "execute_result"
    }
   ],
   "source": [
    "mi_biblioteca"
   ]
  },
  {
   "cell_type": "code",
   "execution_count": 13,
   "metadata": {},
   "outputs": [
    {
     "name": "stdout",
     "output_type": "stream",
     "text": [
      "Has eliminado el libro con éxito\n",
      "[{'autor': 'Patrick Rothfuss', 'año': 2007, 'titulo': 'El nombre del viento'},\n",
      " {'autor': 'Laura Gallego', 'año': 2002, 'titulo': 'Memorias de Idhun I'},\n",
      " {'autor': 'Sally Rooney', 'año': 2018, 'titulo': 'Normal people'},\n",
      " {'autor': 'Teo', 'año': 2007, 'titulo': 'Teo'}]\n"
     ]
    }
   ],
   "source": [
    "# Eliminar libro\n",
    "\n",
    "eliminar_autor = input(\"Escribe el nombre del autor del libro que quieres eliminar: \")\n",
    "for libro in mi_biblioteca:\n",
    "    if libro[\"autor\"].lower() == eliminar_autor.lower():\n",
    "        mi_biblioteca.remove(libro)\n",
    "        print(\"Has eliminado el libro con éxito\")\n",
    "\n",
    "pprint.pprint(mi_biblioteca)\n"
   ]
  },
  {
   "cell_type": "code",
   "execution_count": 14,
   "metadata": {},
   "outputs": [
    {
     "ename": "NameError",
     "evalue": "name 'buscar_autor' is not defined",
     "output_type": "error",
     "traceback": [
      "\u001b[0;31m---------------------------------------------------------------------------\u001b[0m",
      "\u001b[0;31mNameError\u001b[0m                                 Traceback (most recent call last)",
      "Cell \u001b[0;32mIn[14], line 11\u001b[0m\n\u001b[1;32m      9\u001b[0m encontrado \u001b[38;5;241m=\u001b[39m \u001b[38;5;28;01mFalse\u001b[39;00m\n\u001b[1;32m     10\u001b[0m \u001b[38;5;28;01mfor\u001b[39;00m libro \u001b[38;5;129;01min\u001b[39;00m mi_biblioteca:\n\u001b[0;32m---> 11\u001b[0m     \u001b[38;5;28;01mif\u001b[39;00m libro[\u001b[38;5;124m\"\u001b[39m\u001b[38;5;124mautor\u001b[39m\u001b[38;5;124m\"\u001b[39m]\u001b[38;5;241m.\u001b[39mlower() \u001b[38;5;241m==\u001b[39m \u001b[43mbuscar_autor\u001b[49m\u001b[38;5;241m.\u001b[39mlower():\n\u001b[1;32m     12\u001b[0m         \u001b[38;5;28mprint\u001b[39m(\u001b[38;5;124m\"\u001b[39m\u001b[38;5;124mLibro encontrado:\u001b[39m\u001b[38;5;124m\"\u001b[39m, libro)\n\u001b[1;32m     13\u001b[0m         encontrado \u001b[38;5;241m=\u001b[39m \u001b[38;5;28;01mTrue\u001b[39;00m\n",
      "\u001b[0;31mNameError\u001b[0m: name 'buscar_autor' is not defined"
     ]
    }
   ],
   "source": [
    "pregunta = input(\"¡Hola!, ¿qué quieres hacer? imprimir biblioteca, buscar libro, añadir libro o borrar libro: \")\n",
    "\n",
    "if pregunta.lower() == \"imprimir biblioteca\": # Imprimir todos los libros en la biblioteca\n",
    "    print(\"Mi biblioteca:\")\n",
    "    for libro in mi_biblioteca:\n",
    "        print(libro)\n",
    "    \n",
    "elif pregunta.lower() == \"buscar libro\": # Buscar un libro por el autor\n",
    "    buscar_autor = input(\"Introduce el nombre del autor:\")\n",
    "    encontrado = False\n",
    "    for libro in mi_biblioteca:\n",
    "        if libro[\"autor\"].lower() == buscar_autor.lower():\n",
    "            print(\"Libro encontrado:\", libro)\n",
    "            encontrado = True\n",
    "            break\n",
    "    \n",
    "    if not encontrado:\n",
    "        print(\"No se encontró un libro del autor especificado.\")\n",
    "    \n",
    "elif pregunta.lower() == \"añadir libro\": # Añadir un nuevo libro a la biblioteca\n",
    "    nuevo_libro = {}\n",
    "\n",
    "    add_titulo = input(\"Escribe el título del libro:\")\n",
    "    nuevo_libro[\"titulo\"] = add_titulo\n",
    "\n",
    "    add_autor = input(\"Escribe el nombre del autor:\")\n",
    "    nuevo_libro[\"autor\"] = add_autor\n",
    "\n",
    "    add_año = input(\"Escribe el año de la publicación:\")\n",
    "    nuevo_libro[\"año\"] = add_año\n",
    "\n",
    "    mi_biblioteca.append(nuevo_libro)\n",
    "    print(\"Libro añadido con éxito.\")\n",
    "    print(\"Biblioteca actualizada:\", mi_biblioteca)\n",
    "    \n",
    "elif pregunta.lower() == \"borrar libro\": # Borrar un libro basado en el autor\n",
    "    eliminar_autor = input(\"Escribe el nombre del autor del libro que quieres eliminar: \")\n",
    "    #libro_eliminado = False\n",
    "    for libro in mi_biblioteca:\n",
    "        if libro[\"autor\"].lower() == eliminar_autor.lower(): # Todo debajo del if si lo valida se ejecuta todo lo que hay debajo\n",
    "            mi_biblioteca.remove(libro)\n",
    "            #libro_eliminado = True\n",
    "            print(\"Has eliminado el libro con éxito.\")\n",
    "            #break\n",
    "\n",
    "    if not libro_eliminado:\n",
    "        print(\"No se encontró un libro del autor especificado.\")\n",
    "    \n",
    "else: \n",
    "    print(\"Opción no válida. Por favor, elige una opción correcta.\")\n"
   ]
  },
  {
   "cell_type": "code",
   "execution_count": 155,
   "metadata": {},
   "outputs": [
    {
     "name": "stdout",
     "output_type": "stream",
     "text": [
      "Algo ha salido mal\n"
     ]
    }
   ],
   "source": [
    "# input menu ESTA MAL, no se puede usar así. NO SE PUEDE USAR EL INPUT COMO VALOR O CONDICIÓN.\n",
    "\n",
    "input(\"¡Hola!, ¿qué quieres hacer? imprimir biblioteca, buscar libro, añadir libro o borrar libro\")\n",
    "\n",
    "if input == \"imprimir biblioteca\":\n",
    "    print(mi_biblioteca)\n",
    "    \n",
    "elif input == \"buscar libro\":\n",
    "    input = buscar_libro\n",
    "    for libro in mi_biblioteca:\n",
    "            if libro[\"autor\"] == buscar_libro:\n",
    "                print(libro)\n",
    "    \n",
    "elif input == \"añadir libro\":\n",
    "    input = nuevo_libro = {}\n",
    "\n",
    "    add_titulo = input(\"Escribe el título del libro:\")\n",
    "    nuevo_libro[\"titulo\"] = add_titulo\n",
    "\n",
    "    add_autor = input(\"Escribe el nombre del autor:\")\n",
    "    nuevo_libro[\"autor\"] = add_autor\n",
    "\n",
    "    add_año = input(\"Escribe el año de la publicación:\")\n",
    "    nuevo_libro[\"año\"] = add_año\n",
    "\n",
    "    mi_biblioteca.append(nuevo_libro)\n",
    "    print(mi_biblioteca)\n",
    "    \n",
    "elif input == \"borrar libro\":\n",
    "    eliminar_autor = input(\"Escribe el nombre del autor del libro que quieres eliminar: \")\n",
    "    for libro in mi_biblioteca:\n",
    "        if libro[\"autor\"].lower() == eliminar_autor.lower():\n",
    "            mi_biblioteca.remove(libro)\n",
    "            print(\"Has eliminado el libro con éxito\")\n",
    "    \n",
    "else: \n",
    "    print(\"Algo ha salido mal\")\n",
    "        \n"
   ]
  },
  {
   "cell_type": "code",
   "execution_count": null,
   "metadata": {},
   "outputs": [],
   "source": [
    "input(\"¡Hola!, ¿qué quieres hacer? imprimir biblioteca, buscar libro, añadir libro o borrar libro\")"
   ]
  },
  {
   "cell_type": "code",
   "execution_count": null,
   "metadata": {},
   "outputs": [],
   "source": []
  },
  {
   "cell_type": "code",
   "execution_count": 135,
   "metadata": {},
   "outputs": [
    {
     "name": "stdout",
     "output_type": "stream",
     "text": [
      "{'tamaño': 50.0, 'smarttv': True, 'marca': 'Samsung'}\n",
      "<class 'dict'>\n"
     ]
    }
   ],
   "source": [
    "tv = {\"tamaño\": 50.0,\n",
    "      \"smarttv\": True,\n",
    "      \"marca\": \"Samsung\"}\n",
    "print(tv)\n",
    "print(type(tv))"
   ]
  },
  {
   "cell_type": "code",
   "execution_count": 136,
   "metadata": {},
   "outputs": [
    {
     "name": "stdout",
     "output_type": "stream",
     "text": [
      "{'tamaño': 50.0, 'smarttv': True, 'marca': 'Samsung', 'precio': 800}\n"
     ]
    }
   ],
   "source": [
    "tv['precio'] = 800\n",
    "print(tv)"
   ]
  },
  {
   "cell_type": "code",
   "execution_count": 137,
   "metadata": {},
   "outputs": [
    {
     "name": "stdout",
     "output_type": "stream",
     "text": [
      "{'tamaño': 50.0, 'smarttv': True, 'marca': 'LG', 'precio': 800}\n"
     ]
    }
   ],
   "source": [
    "tv['marca'] = \"LG\"\n",
    "print(tv)"
   ]
  },
  {
   "cell_type": "code",
   "execution_count": 138,
   "metadata": {},
   "outputs": [
    {
     "name": "stdout",
     "output_type": "stream",
     "text": [
      "tamaño 50.0\n",
      "smarttv True\n",
      "marca LG\n",
      "precio 800\n"
     ]
    }
   ],
   "source": [
    "for i in tv:\n",
    "    print(i, tv[i])"
   ]
  },
  {
   "cell_type": "code",
   "execution_count": 139,
   "metadata": {},
   "outputs": [
    {
     "name": "stdout",
     "output_type": "stream",
     "text": [
      "tamaño 50.0\n",
      "smarttv True\n",
      "marca LG\n",
      "precio 800\n"
     ]
    }
   ],
   "source": [
    "for clave,valor in tv.items():\n",
    "    print(clave, valor)"
   ]
  },
  {
   "attachments": {},
   "cell_type": "markdown",
   "metadata": {},
   "source": [
    "## 4. Sets\n",
    "Otra colección *bulit-in* de Python, compuesta por un conjunto de *claves*. Muy parecidos a los diccionarios. Tienen las siguientes características:\n",
    "* **Mutables**: podemos modificarlos una vez se hayan creado\n",
    "* **No ordenados**\n",
    "* **Elementos únicos**: se compone de un conjunto de claves únicas\n",
    "\n",
    "**¿Cuándo usar sets?** Cuando estemos buscando unicidad en nuestros datos y no nos importe el orden.\n",
    "\n",
    "Te dejo por aquí [la documentación](https://docs.python.org/2/library/sets.html) para realizar consultas sobre los sets\n",
    "\n",
    "Su sintaxis es:\n",
    ">```Python\n",
    "> mi_set = {elemento1, elemento2, elemento3}\n",
    ">```\n",
    "\n",
    "Tiene una sintaxis muy parecida a la de los diccionarios, pero en este caso no se utilizan los `:`. "
   ]
  },
  {
   "cell_type": "code",
   "execution_count": 140,
   "metadata": {},
   "outputs": [
    {
     "name": "stdout",
     "output_type": "stream",
     "text": [
      "{'blanco', 'azul', 'rojo'}\n",
      "{'blanco', 'azul', 'rojo'}\n"
     ]
    },
    {
     "data": {
      "text/plain": [
       "3"
      ]
     },
     "execution_count": 140,
     "metadata": {},
     "output_type": "execute_result"
    }
   ],
   "source": [
    "colores = {\"rojo\", \"azul\", \"blanco\"}\n",
    "print(colores)\n",
    "\n",
    "colores2 = {\"rojo\", \"azul\", \"blanco\", \"rojo\"}\n",
    "print(colores2)\n",
    "\n",
    "len(colores2)"
   ]
  },
  {
   "cell_type": "markdown",
   "metadata": {},
   "source": [
    "Los elementos del set son unicos, por lo que si en la declaración, o posteriormente añadiendo elementos hubiese algún duplicado, el set lo ignoraría. Es más, cuando aplicas el `len`, muestra la cantidad de valores únicos que tiene."
   ]
  },
  {
   "cell_type": "code",
   "execution_count": null,
   "metadata": {},
   "outputs": [],
   "source": []
  },
  {
   "cell_type": "code",
   "execution_count": 92,
   "metadata": {
    "collapsed": true,
    "jupyter": {
     "outputs_hidden": true
    },
    "tags": []
   },
   "outputs": [
    {
     "name": "stdout",
     "output_type": "stream",
     "text": [
      "{'dia', 4}\n",
      "{'Martes', 'Lunes'}\n",
      "{'Lunes'}\n",
      "Lunes\n"
     ]
    }
   ],
   "source": [
    "dias = {'dia', 4}\n",
    "print(dias)\n",
    "\n",
    "dias = set()\n",
    "dias.add(\"Lunes\")\n",
    "dias.add(\"Martes\")\n",
    "print(dias)\n",
    "\n",
    "dias.remove(\"Martes\")\n",
    "print(dias)\n",
    "\n",
    "#print(\"Lunes\" in dias)\n",
    "#print(\"Viernes\" not in dias)\n",
    "\n",
    "for i in dias:\n",
    "    print(i)"
   ]
  },
  {
   "cell_type": "markdown",
   "metadata": {},
   "source": [
    "Para comprobar si dos sets tienen los mismos elementos"
   ]
  },
  {
   "cell_type": "code",
   "execution_count": 97,
   "metadata": {},
   "outputs": [
    {
     "data": {
      "text/plain": [
       "2"
      ]
     },
     "execution_count": 97,
     "metadata": {},
     "output_type": "execute_result"
    }
   ],
   "source": [
    "lista = [1,2,3,5]\n",
    "lista[1]"
   ]
  },
  {
   "cell_type": "code",
   "execution_count": 107,
   "metadata": {},
   "outputs": [
    {
     "data": {
      "text/plain": [
       "True"
      ]
     },
     "execution_count": 107,
     "metadata": {},
     "output_type": "execute_result"
    }
   ],
   "source": [
    "set1 = {1,3,5,1,7,6,1,3}\n",
    "set2 = {5,1,3,7,6}\n",
    "\n",
    "set1 == set2"
   ]
  },
  {
   "cell_type": "code",
   "execution_count": 108,
   "metadata": {},
   "outputs": [
    {
     "name": "stdout",
     "output_type": "stream",
     "text": [
      "{3, 5, 6, 7}\n"
     ]
    }
   ],
   "source": [
    "set2.pop()\n",
    "print(set2)"
   ]
  },
  {
   "cell_type": "code",
   "execution_count": 101,
   "metadata": {},
   "outputs": [
    {
     "name": "stdout",
     "output_type": "stream",
     "text": [
      "{1, 3, 5, 6, 7}\n",
      "{1, 3, 5, 6, 7}\n"
     ]
    }
   ],
   "source": [
    "print(set1)\n",
    "print(set2)"
   ]
  },
  {
   "cell_type": "code",
   "execution_count": 109,
   "metadata": {},
   "outputs": [
    {
     "name": "stdout",
     "output_type": "stream",
     "text": [
      "hay un 1\n"
     ]
    }
   ],
   "source": [
    "if 1 in set1:\n",
    "    print(\"hay un 1\")"
   ]
  },
  {
   "cell_type": "code",
   "execution_count": 194,
   "metadata": {},
   "outputs": [
    {
     "name": "stdout",
     "output_type": "stream",
     "text": [
      "{1, 3, 5, 6, 7}\n",
      "{1, 10, 3, 5}\n",
      "----------\n",
      "{1, 3, 5}\n",
      "{1, 3, 5, 6, 7, 10}\n",
      "{6, 7}\n",
      "{10}\n"
     ]
    }
   ],
   "source": [
    "set1 = {1,3,5,1,7,6,1,3}\n",
    "set2 = {5,1,3,10}\n",
    "\n",
    "print(set1)\n",
    "print(set2)\n",
    "print('-'*10)\n",
    "\n",
    "print(set1 & set2) # and\n",
    "print(set1 | set2) # or\n",
    "print(set1 - set2) \n",
    "print(set2 - set1)"
   ]
  },
  {
   "cell_type": "markdown",
   "metadata": {},
   "source": [
    "## 5. Conversiones entre colecciones\n",
    "\n",
    "### De lista"
   ]
  },
  {
   "cell_type": "code",
   "execution_count": 110,
   "metadata": {
    "collapsed": true,
    "jupyter": {
     "outputs_hidden": true
    },
    "tags": []
   },
   "outputs": [
    {
     "name": "stdout",
     "output_type": "stream",
     "text": [
      "[1, 2, 3, 3, 3, 3, 3, 3, 3]\n",
      "(1, 2, 3, 3, 3, 3, 3, 3, 3)\n",
      "{1, 2, 3}\n"
     ]
    }
   ],
   "source": [
    "list_1 = [1,2,3,3,3,3,3,3,3]\n",
    "print(list_1)\n",
    "\n",
    "# A tupla\n",
    "tuple_1 = tuple(list_1)\n",
    "print(tuple_1)\n",
    "\n",
    "# A set\n",
    "print(set(list_1))"
   ]
  },
  {
   "cell_type": "markdown",
   "metadata": {},
   "source": [
    "### De Tupla"
   ]
  },
  {
   "cell_type": "code",
   "execution_count": 111,
   "metadata": {},
   "outputs": [
    {
     "name": "stdout",
     "output_type": "stream",
     "text": [
      "(1, 2, 3)\n",
      "[1, 2, 3]\n",
      "{1, 2, 3}\n",
      "{'Ciudad': 'Madrid', 'Tiempo': 'nublado'}\n"
     ]
    }
   ],
   "source": [
    "tupla_1 = (1,2,3)\n",
    "print(tupla_1)\n",
    "\n",
    "# A lista\n",
    "print(list(tupla_1))\n",
    "\n",
    "# A set\n",
    "print(set(tupla_1))\n",
    "\n",
    "# A diccionario\n",
    "lista_tuplas = [(\"Ciudad\", \"Madrid\"), (\"Tiempo\", \"nublado\")]\n",
    "print(dict(lista_tuplas))"
   ]
  },
  {
   "cell_type": "code",
   "execution_count": 112,
   "metadata": {},
   "outputs": [
    {
     "name": "stdout",
     "output_type": "stream",
     "text": [
      "{0: 1, 1: 2, 2: 2, 3: 3, 4: 3, 5: 4}\n"
     ]
    }
   ],
   "source": [
    "tupla = (1,2,2,3,3,4)\n",
    "my_dict = {}\n",
    "for i, elem in enumerate(tupla):\n",
    "    my_dict[i] = elem\n",
    "\n",
    "print(my_dict)"
   ]
  },
  {
   "cell_type": "markdown",
   "metadata": {},
   "source": [
    "### De diccionario"
   ]
  },
  {
   "cell_type": "code",
   "execution_count": 93,
   "metadata": {
    "collapsed": true,
    "jupyter": {
     "outputs_hidden": true
    },
    "tags": []
   },
   "outputs": [
    {
     "name": "stdout",
     "output_type": "stream",
     "text": [
      "['Ciudad', 'Tiempo']\n"
     ]
    }
   ],
   "source": [
    "tupla_dict = [(\"Ciudad\", \"Madrid\"), (\"Tiempo\", \"nublado\")]\n",
    "dict_1 = dict(tupla_dict)\n",
    "#print(dict_1)\n",
    "\n",
    "# A lista\n",
    "print(list(dict_1))\n",
    "\n",
    "# A tupla\n",
    "#print(tuple(dict_1))\n",
    "\n",
    "# A set\n",
    "#print(set(dict_1))\n",
    "\n",
    "\n",
    "# A lista\n",
    "#print(list(dict_1.items()))\n",
    "\n",
    "# A tupla\n",
    "#print(tuple(dict_1.items()))\n",
    "\n",
    "# A set\n",
    "#print(set(dict_1.items()))"
   ]
  },
  {
   "cell_type": "code",
   "execution_count": 114,
   "metadata": {},
   "outputs": [
    {
     "data": {
      "text/plain": [
       "['Ciudad', 'Madrid', 'Tiempo', 'nublado']"
      ]
     },
     "execution_count": 114,
     "metadata": {},
     "output_type": "execute_result"
    }
   ],
   "source": [
    "mi_list = []\n",
    "\n",
    "for clave, valor in dict_1.items():\n",
    "    mi_list.append(clave)\n",
    "    mi_list.append(valor)\n",
    "\n",
    "mi_list\n"
   ]
  },
  {
   "cell_type": "code",
   "execution_count": 115,
   "metadata": {},
   "outputs": [
    {
     "data": {
      "text/plain": [
       "['Ciudad', 'Madrid', 'Tiempo', 'nublado']"
      ]
     },
     "execution_count": 115,
     "metadata": {},
     "output_type": "execute_result"
    }
   ],
   "source": [
    "mi_list = []\n",
    "\n",
    "for i in dict_1:\n",
    "    mi_list.append(i)\n",
    "    mi_list.append(dict_1[i])\n",
    "\n",
    "mi_list\n"
   ]
  },
  {
   "cell_type": "code",
   "execution_count": 116,
   "metadata": {
    "collapsed": true,
    "jupyter": {
     "outputs_hidden": true
    },
    "tags": []
   },
   "outputs": [
    {
     "name": "stdout",
     "output_type": "stream",
     "text": [
      "Ciudad\n",
      "Tiempo\n",
      "Ciudad\n",
      "Tiempo\n",
      "Ciudad\n",
      "Tiempo\n"
     ]
    }
   ],
   "source": [
    "for i in dict_1:\n",
    "    print(i)\n",
    "for i in dict_1.keys():\n",
    "    print(i)\n",
    "for i in list(dict_1):\n",
    "    print(i)"
   ]
  },
  {
   "cell_type": "markdown",
   "metadata": {},
   "source": [
    "Se queda únicamente con las claves, y perdemos los valores. Para no perder la informacion:"
   ]
  },
  {
   "cell_type": "code",
   "execution_count": 117,
   "metadata": {
    "collapsed": true,
    "jupyter": {
     "outputs_hidden": true
    },
    "tags": []
   },
   "outputs": [
    {
     "name": "stdout",
     "output_type": "stream",
     "text": [
      "dict_keys(['Ciudad', 'Tiempo'])\n",
      "dict_values(['Madrid', 'nublado'])\n",
      "dict_items([('Ciudad', 'Madrid'), ('Tiempo', 'nublado')])\n"
     ]
    }
   ],
   "source": [
    "print(dict_1.keys())\n",
    "print(dict_1.values())\n",
    "print(dict_1.items())"
   ]
  },
  {
   "cell_type": "markdown",
   "metadata": {},
   "source": [
    "### De Set"
   ]
  },
  {
   "cell_type": "code",
   "execution_count": 125,
   "metadata": {
    "collapsed": true,
    "jupyter": {
     "outputs_hidden": true
    },
    "tags": []
   },
   "outputs": [
    {
     "name": "stdout",
     "output_type": "stream",
     "text": [
      "{1, 2, 3}\n",
      "[1, 2, 3]\n",
      "(1, 2, 3)\n"
     ]
    }
   ],
   "source": [
    "set_1 = {1,2,3}\n",
    "print(set_1)\n",
    "\n",
    "print(list(set_1))\n",
    "print(tuple(set_1))"
   ]
  },
  {
   "cell_type": "markdown",
   "metadata": {},
   "source": [
    "<table align=\"left\">\n",
    " <tr><td width=\"80\"><img src=\"./img/error.png\" style=\"width:auto;height:auto\"></td>\n",
    "     <td style=\"text-align:left\">\n",
    "         <h3>ERRORES en conversiones</h3>\n",
    "         \n",
    " </td></tr>\n",
    "</table>"
   ]
  },
  {
   "cell_type": "markdown",
   "metadata": {},
   "source": [
    "El diccionario suele dar problemas cuando intentamos realizar conversiones entre colecciones, ya que es la estrutura más compleja."
   ]
  },
  {
   "cell_type": "code",
   "execution_count": 118,
   "metadata": {},
   "outputs": [
    {
     "ename": "TypeError",
     "evalue": "cannot convert dictionary update sequence element #0 to a sequence",
     "output_type": "error",
     "traceback": [
      "\u001b[1;31m---------------------------------------------------------------------------\u001b[0m",
      "\u001b[1;31mTypeError\u001b[0m                                 Traceback (most recent call last)",
      "\u001b[1;32md:\\Carpeta_profesor\\2309_dsft_thebridge\\1-Ramp_Up\\Python\\3-Colecciones\\Teoria\\Colecciones.ipynb Cell 121\u001b[0m line \u001b[0;36m2\n\u001b[0;32m      <a href='vscode-notebook-cell:/d%3A/Carpeta_profesor/2309_dsft_thebridge/1-Ramp_Up/Python/3-Colecciones/Teoria/Colecciones.ipynb#Y213sZmlsZQ%3D%3D?line=0'>1</a>\u001b[0m mi_tupla \u001b[39m=\u001b[39m (\u001b[39m1\u001b[39m,\u001b[39m2\u001b[39m,\u001b[39m3\u001b[39m)\n\u001b[1;32m----> <a href='vscode-notebook-cell:/d%3A/Carpeta_profesor/2309_dsft_thebridge/1-Ramp_Up/Python/3-Colecciones/Teoria/Colecciones.ipynb#Y213sZmlsZQ%3D%3D?line=1'>2</a>\u001b[0m \u001b[39mdict\u001b[39;49m(mi_tupla)\n",
      "\u001b[1;31mTypeError\u001b[0m: cannot convert dictionary update sequence element #0 to a sequence"
     ]
    }
   ],
   "source": [
    "mi_tupla = (1,2,3)\n",
    "dict(mi_tupla)"
   ]
  },
  {
   "cell_type": "markdown",
   "metadata": {},
   "source": [
    "## 6. Comprensión de listas\n",
    "\n",
    "Las listas pueden crearse también por comprensión (en inglés, *comprehension*). Esto tiene mucha relación con la definición de conjuntos por comprensión de las matemáticas. Sea por ejemplo, en matemáticas esta expresión:\n",
    "$$ S = \\{x^2 |\\ x \\in [3, 7), x \\  impar\\}$$\n",
    "Esta expresión define un conjunto $ S = \\{9, 25\\}$, puesto que el intervalo es abierto por la derecha, con lo que solo comprende los números 3, 4, 5 y 6, pero la condición dice que solo tengamos en cuenta los impares, es decir, 3 y 5, y la expresión del principio dice que tomemos los cuadrados. Recordando que para saber si un número es par o impar usamos en Python el operador módulo (`%`), esto se puede escribir (definiendo una lista `s` en lugar de un conjunto) como:"
   ]
  },
  {
   "cell_type": "code",
   "execution_count": 143,
   "metadata": {},
   "outputs": [
    {
     "name": "stdout",
     "output_type": "stream",
     "text": [
      "[9, 25]\n"
     ]
    }
   ],
   "source": [
    "list_comp = []\n",
    "for x in range(3,7):\n",
    "    if x % 2 == 1:\n",
    "        list_comp.append(x**2)\n",
    "\n",
    "print(list_comp)"
   ]
  },
  {
   "cell_type": "code",
   "execution_count": 144,
   "metadata": {},
   "outputs": [
    {
     "name": "stdout",
     "output_type": "stream",
     "text": [
      "[9, 25]\n"
     ]
    }
   ],
   "source": [
    "list_comp = [x**2 for x in range(3, 7) if x % 2 == 1]\n",
    "print(list_comp)"
   ]
  },
  {
   "cell_type": "code",
   "execution_count": 145,
   "metadata": {},
   "outputs": [
    {
     "name": "stdout",
     "output_type": "stream",
     "text": [
      "[9, 4, 25, 6]\n"
     ]
    }
   ],
   "source": [
    "list_comp = [x**2 if x % 2 == 1 else x for x in range(3, 7)]\n",
    "print(list_comp)"
   ]
  },
  {
   "cell_type": "code",
   "execution_count": 146,
   "metadata": {},
   "outputs": [
    {
     "data": {
      "text/plain": [
       "['o-encontrada', 'o-encontrada']"
      ]
     },
     "execution_count": 146,
     "metadata": {},
     "output_type": "execute_result"
    }
   ],
   "source": [
    "list_comp = [x + \"-encontrada\" for x in \"Hola mundo\" if x == \"o\"]\n",
    "list_comp"
   ]
  },
  {
   "cell_type": "markdown",
   "metadata": {},
   "source": [
    "Si tenemos un trozo de código que define una lista de este tipo:\n",
    "``` python\n",
    "nueva_lista = []\n",
    "for e in vieja_lista:\n",
    "    if filtro(e):\n",
    "        nueva_lista.append(transformacion(e))\n",
    "```\n",
    "Se puede escribir, usando comprensión, como:\n",
    "```python\n",
    "nueva_lista = [transformacion(e) for e in vieja_lista if filtro(e)]\n",
    "```\n",
    "\n",
    "La definición de listas por comprensión es muy cómoda, compacta y expresiva. No obstante, no debemos abusar de ella; si la expresión que escribimos es muy compleja se puede volver muy difícil de leer. En ese caso sería preferible la definición \"clásica\" de la lista.\n",
    "\n",
    "Vamos a ver esto con un ejemplo. Supongamos una lista de `edades`, de la que queremos obtener una nueva lista, `mayores_edad` con las que sean mayores o iguales que 21. Escribiríamos:"
   ]
  },
  {
   "cell_type": "code",
   "execution_count": 147,
   "metadata": {},
   "outputs": [
    {
     "name": "stdout",
     "output_type": "stream",
     "text": [
      "[19, 20, 18, 21, 19, 25, 16]\n",
      "[19, 20, 18, 21, 19, 25]\n"
     ]
    }
   ],
   "source": [
    "edades = [19, 20, 18, 21, 19, 25, 16]\n",
    "print(edades)\n",
    "mayores_edad = [x for x in edades if x >= 18]\n",
    "print(mayores_edad)"
   ]
  },
  {
   "cell_type": "markdown",
   "metadata": {},
   "source": [
    "<table align=\"left\">\n",
    " <tr><td width=\"80\"><img src=\"./img/ejercicio.png\" style=\"width:auto;height:auto\"></td>\n",
    "     <td style=\"text-align:left\">\n",
    "         <h3>Ejercicio list comprehension</h3>\n",
    "\n",
    "Prueba a definir una lista temperaturas_menores, a partir de la lista temperaturas, con temperaturas menores que 27 grados, guardando los valores con un redondeo de 0 decimales.\n",
    "         \n",
    "         temperaturas = [25.2, 24.9, 25.2, 26.7, 28.6, 29.5, 29.7]\n",
    "         \n",
    " </td></tr>\n",
    "</table>"
   ]
  },
  {
   "cell_type": "code",
   "execution_count": 148,
   "metadata": {},
   "outputs": [],
   "source": [
    "temperaturas = [25.2, 24.9, 25.2, 26.7, 28.6, 29.5, 29.7]"
   ]
  },
  {
   "cell_type": "code",
   "execution_count": 150,
   "metadata": {},
   "outputs": [
    {
     "name": "stdout",
     "output_type": "stream",
     "text": [
      "[25, 25, 25, 27]\n"
     ]
    }
   ],
   "source": [
    "temperaturas_menores = []\n",
    "\n",
    "for x in temperaturas:\n",
    "    if x < 27:\n",
    "        temperaturas_menores.append(round(x))\n",
    "\n",
    "print(temperaturas_menores)"
   ]
  },
  {
   "cell_type": "code",
   "execution_count": 151,
   "metadata": {},
   "outputs": [
    {
     "name": "stdout",
     "output_type": "stream",
     "text": [
      "[25, 25, 25, 27]\n"
     ]
    }
   ],
   "source": [
    "temperaturas_menores = [round(x) for x in temperaturas if x < 27]\n",
    "print(temperaturas_menores)"
   ]
  },
  {
   "cell_type": "code",
   "execution_count": 3,
   "metadata": {},
   "outputs": [
    {
     "name": "stdout",
     "output_type": "stream",
     "text": [
      "[3, 4, 5, 6]\n",
      "[3, 4, 5, 6, 7]\n"
     ]
    }
   ],
   "source": [
    "lista1 = [3, 4, 5, 6, 7]\n",
    "lista2 = lista1.copy()\n",
    "lista1.pop()\n",
    "print(lista1)\n",
    "print(lista2)"
   ]
  },
  {
   "cell_type": "code",
   "execution_count": 6,
   "metadata": {},
   "outputs": [
    {
     "name": "stdout",
     "output_type": "stream",
     "text": [
      "{'a': 0, 'b': 1}\n",
      "{'a': 0, 'b': 1, 'e': 3}\n"
     ]
    }
   ],
   "source": [
    "dict1 = {\"a\":0, \"b\":1}\n",
    "dict2 = dict1.copy()\n",
    "dict1[\"e\"] = 3\n",
    "print(dict2)\n",
    "print(dict1)"
   ]
  },
  {
   "cell_type": "code",
   "execution_count": 9,
   "metadata": {},
   "outputs": [
    {
     "name": "stdout",
     "output_type": "stream",
     "text": [
      "[4, 5, 6, 7, 8, 9, 14]\n"
     ]
    }
   ],
   "source": [
    "lista = [4, 5, 6, 7, 8, 9]\n",
    "\n",
    "def aniade_elemento(a, elemento):\n",
    "    a.append(elemento)\n",
    "\n",
    "aniade_elemento(lista, 14)\n",
    "print(lista)"
   ]
  },
  {
   "cell_type": "code",
   "execution_count": 10,
   "metadata": {},
   "outputs": [
    {
     "data": {
      "text/plain": [
       "[{'a': 0, 'b': 1, 'e': 3}, {'a': 0, 'b': 1}]"
      ]
     },
     "execution_count": 10,
     "metadata": {},
     "output_type": "execute_result"
    }
   ],
   "source": [
    "lista_de_diccionarios = [dict1, dict2]\n",
    "lista_de_diccionarios"
   ]
  },
  {
   "cell_type": "code",
   "execution_count": 11,
   "metadata": {},
   "outputs": [
    {
     "data": {
      "text/plain": [
       "[{'a': 0, 'b': 1, 'e': 3}, {'a': 0, 'b': 1}]"
      ]
     },
     "execution_count": 11,
     "metadata": {},
     "output_type": "execute_result"
    }
   ],
   "source": [
    "lista_de_diccionarios_copia = lista_de_diccionarios.copy()\n",
    "lista_de_diccionarios_copia"
   ]
  },
  {
   "cell_type": "code",
   "execution_count": 13,
   "metadata": {},
   "outputs": [],
   "source": [
    "lista_de_diccionarios.append({\"b\": 0, \"c\": 1, \"d\": 10})"
   ]
  },
  {
   "cell_type": "code",
   "execution_count": 15,
   "metadata": {},
   "outputs": [
    {
     "name": "stdout",
     "output_type": "stream",
     "text": [
      "[{'a': 0, 'b': 1, 'e': 3}, {'a': 0, 'b': 1}, {'b': 0, 'c': 1, 'd': 10}, {'b': 0, 'c': 1, 'd': 10}]\n",
      "[{'a': 0, 'b': 1, 'e': 3}, {'a': 0, 'b': 1}]\n"
     ]
    }
   ],
   "source": [
    "print(lista_de_diccionarios)\n",
    "print(lista_de_diccionarios_copia)"
   ]
  },
  {
   "cell_type": "code",
   "execution_count": 16,
   "metadata": {},
   "outputs": [],
   "source": [
    "lista_de_diccionarios[0][\"a\"] = 1000"
   ]
  },
  {
   "cell_type": "code",
   "execution_count": 17,
   "metadata": {},
   "outputs": [
    {
     "name": "stdout",
     "output_type": "stream",
     "text": [
      "[{'a': 1000, 'b': 1, 'e': 3}, {'a': 0, 'b': 1}, {'b': 0, 'c': 1, 'd': 10}, {'b': 0, 'c': 1, 'd': 10}]\n",
      "[{'a': 1000, 'b': 1, 'e': 3}, {'a': 0, 'b': 1}]\n"
     ]
    }
   ],
   "source": [
    "print(lista_de_diccionarios)\n",
    "print(lista_de_diccionarios_copia) # El .copy te hace una copia de la lista, pero no te hace una copia del diccionario. [a,b]"
   ]
  },
  {
   "cell_type": "code",
   "execution_count": 20,
   "metadata": {},
   "outputs": [
    {
     "name": "stdout",
     "output_type": "stream",
     "text": [
      "[{'a': 1000, 'b': 1, 'e': 3, 'd': 8}, {'a': 0, 'b': 1}, {'b': 0, 'c': 1, 'd': 10}, {'b': 0, 'c': 1, 'd': 8}]\n"
     ]
    }
   ],
   "source": [
    "# Para eliminar este problema\n",
    "import copy\n",
    "lista_de_diccionarios_copia_profunda = copy.deepcopy(lista_de_diccionarios)\n",
    "lista_de_diccionarios[0][\"d\"] = 8\n",
    "print(lista_de_diccionarios_copia_profunda)"
   ]
  },
  {
   "cell_type": "markdown",
   "metadata": {},
   "source": [
    "## 7. Resumen"
   ]
  },
  {
   "cell_type": "code",
   "execution_count": null,
   "metadata": {},
   "outputs": [],
   "source": [
    "# Listas\n",
    "print(\"Listas\")\n",
    "nums = [6, 2, 8, 3, 4, 5, 5]\n",
    "\n",
    "# Tamaño\n",
    "print(len(nums))\n",
    "\n",
    "# Acceso\n",
    "print(nums[2])\n",
    "print(nums[-1])\n",
    "\n",
    "# Acceso por indice\n",
    "print(nums.index(5))\n",
    "nums.append('numeros')\n",
    "print(nums)\n",
    "\n",
    "# Eliminar\n",
    "nums.remove(\"numeros\")\n",
    "print(nums)\n",
    "\n",
    "# Ordenar\n",
    "nums.sort()\n",
    "print(nums)\n",
    "\n",
    "# Tamaño de la lista\n",
    "print(len(nums))\n",
    "\n",
    "# Invertir el orden\n",
    "nums.reverse()\n",
    "print(nums)\n",
    "\n",
    "# Ocurrencia de un valor\n",
    "print(nums.count(22))"
   ]
  },
  {
   "cell_type": "code",
   "execution_count": null,
   "metadata": {},
   "outputs": [],
   "source": [
    "# Tuplas\n",
    "primera_tupla = (3, \"text\")\n",
    "\n",
    "# Anidacion de tuplas\n",
    "tupla_anid = (1, 2, 3, (\"A\", \"B\", \"C\"))\n",
    "print(tupla_anid)\n",
    "\n",
    "# El acceso es como en las listas\n",
    "print(tupla_anid[0])\n",
    "\n",
    "# Tambien son elementos iterables\n",
    "for i in tupla_anid:\n",
    "    print(i)\n",
    "    \n",
    "# El slicing también funciona igual\n",
    "print(tupla_anid[0:2])\n",
    "\n",
    "# Longitud de la tupla\n",
    "print(len(tupla_anid))"
   ]
  },
  {
   "cell_type": "code",
   "execution_count": null,
   "metadata": {},
   "outputs": [],
   "source": [
    "# Diccionario\n",
    "coche = {\"color\": \"Gris\",\n",
    "        \"marca\": \"VW\",\n",
    "        \"peso\": 1500,\n",
    "        \"Cambio automatico\": True}\n",
    "\n",
    "print(coche)\n",
    "\n",
    "coche = {\"color\": \"Gris\",\n",
    "        \"marca\": \"VW\"\n",
    "        }\n",
    "\n",
    "for i in coche: # Esta recorriendo las claves\n",
    "    print(i) # Imprimimos la clave\n",
    "    print(coche[i]) # Imprimimos el valor\n",
    "    \n",
    "# Otra menera de recorrer los elementos\n",
    "for clave, valor in coche.items():\n",
    "    print(clave, valor)"
   ]
  },
  {
   "cell_type": "code",
   "execution_count": null,
   "metadata": {},
   "outputs": [],
   "source": [
    "# Sets\n",
    "colores = {\"rojo\", \"azul\", \"blanco\"}\n",
    "print(colores)\n",
    "\n",
    "# Mira lo que ocurre cuando ponemos duplicados\n",
    "colores2 = {\"rojo\", \"azul\", \"blanco\", \"rojo\"}\n",
    "print(colores2)\n",
    "\n",
    "# El len tambien funciona aqui\n",
    "len(colores2)\n",
    "\n",
    "# Crear un set vacio. No se crea con {}, ya que si no, sería un diccionario.\n",
    "dias = set()\n",
    "print(dias)\n",
    "\n",
    "# Añadir elementos\n",
    "dias.add(\"Lunes\")\n",
    "dias.add(\"Martes\")\n",
    "dias.add(\"Miercoles\")\n",
    "print(dias)\n",
    "\n",
    "# Eliminar elementos\n",
    "dias.remove(\"Miercoles\")\n",
    "print(dias)\n",
    "\n",
    "# Buscar elementos\n",
    "print(\"Lunes\" in dias)\n",
    "print(\"Viernes\" not in dias)\n",
    "\n",
    "# Tambien es un iterable\n",
    "for i in dias:\n",
    "    print(i)"
   ]
  }
 ],
 "metadata": {
  "kernelspec": {
   "display_name": "Python 3.7.4 64-bit",
   "language": "python",
   "name": "python3"
  },
  "language_info": {
   "codemirror_mode": {
    "name": "ipython",
    "version": 3
   },
   "file_extension": ".py",
   "mimetype": "text/x-python",
   "name": "python",
   "nbconvert_exporter": "python",
   "pygments_lexer": "ipython3",
   "version": "3.9.6"
  },
  "nbTranslate": {
   "displayLangs": [
    "*"
   ],
   "hotkey": "alt-t",
   "langInMainMenu": true,
   "sourceLang": "en",
   "targetLang": "fr",
   "useGoogleTranslate": true
  },
  "varInspector": {
   "cols": {
    "lenName": 16,
    "lenType": 16,
    "lenVar": 40
   },
   "kernels_config": {
    "python": {
     "delete_cmd_postfix": "",
     "delete_cmd_prefix": "del ",
     "library": "var_list.py",
     "varRefreshCmd": "print(var_dic_list())"
    },
    "r": {
     "delete_cmd_postfix": ") ",
     "delete_cmd_prefix": "rm(",
     "library": "var_list.r",
     "varRefreshCmd": "cat(var_dic_list()) "
    }
   },
   "types_to_exclude": [
    "module",
    "function",
    "builtin_function_or_method",
    "instance",
    "_Feature"
   ],
   "window_display": false
  },
  "vscode": {
   "interpreter": {
    "hash": "90139cb9a825bf3d63f6f6704e828dbd1ff7edbd4d0c6e906a71235d6efc74af"
   }
  }
 },
 "nbformat": 4,
 "nbformat_minor": 4
}
